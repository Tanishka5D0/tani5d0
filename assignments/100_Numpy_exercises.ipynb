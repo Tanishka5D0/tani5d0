{
  "cells": [
    {
      "cell_type": "markdown",
      "metadata": {
        "id": "view-in-github",
        "colab_type": "text"
      },
      "source": [
        "<a href=\"https://colab.research.google.com/github/Tanishka5D0/tani5d0/blob/main/assignments/100_Numpy_exercises.ipynb\" target=\"_parent\"><img src=\"https://colab.research.google.com/assets/colab-badge.svg\" alt=\"Open In Colab\"/></a>"
      ]
    },
    {
      "cell_type": "markdown",
      "id": "6293cc50",
      "metadata": {
        "id": "6293cc50"
      },
      "source": [
        "# 100 numpy exercises\n",
        "\n",
        "This is a collection of exercises that have been collected in the numpy mailing list, on stack overflow\n",
        "and in the numpy documentation. The goal of this collection is to offer a quick reference for both old\n",
        "and new users but also to provide a set of exercises for those who teach.\n",
        "\n",
        "\n",
        "If you find an error or think you've a better way to solve some of them, feel\n",
        "free to open an issue at <https://github.com/rougier/numpy-100>."
      ]
    },
    {
      "cell_type": "markdown",
      "id": "a167c052",
      "metadata": {
        "id": "a167c052"
      },
      "source": [
        "File automatically generated. See the documentation to update questions/answers/hints programmatically."
      ]
    },
    {
      "cell_type": "markdown",
      "id": "57fc0ee5",
      "metadata": {
        "id": "57fc0ee5"
      },
      "source": [
        "Run the `initialize.py` module, then for each question you can query the\n",
        "answer or an hint with `hint(n)` or `answer(n)` for `n` question number."
      ]
    },
    {
      "cell_type": "code",
      "execution_count": null,
      "id": "3d46fba2",
      "metadata": {
        "id": "3d46fba2"
      },
      "outputs": [],
      "source": [
        "%run initialise.py"
      ]
    },
    {
      "cell_type": "markdown",
      "id": "3c1222ff",
      "metadata": {
        "id": "3c1222ff"
      },
      "source": [
        "#### 1. Import the numpy package under the name `np` (★☆☆)"
      ]
    },
    {
      "cell_type": "code",
      "execution_count": 1,
      "id": "f52e6a0b",
      "metadata": {
        "id": "f52e6a0b"
      },
      "outputs": [],
      "source": [
        "import numpy as np"
      ]
    },
    {
      "cell_type": "markdown",
      "id": "9d9f4753",
      "metadata": {
        "id": "9d9f4753"
      },
      "source": [
        "#### 2. Print the numpy version and the configuration (★☆☆)"
      ]
    },
    {
      "cell_type": "code",
      "execution_count": 2,
      "id": "b7fa5fa1",
      "metadata": {
        "id": "b7fa5fa1",
        "outputId": "3161639a-fa83-454a-ba6b-a8807155bcd7",
        "colab": {
          "base_uri": "https://localhost:8080/"
        }
      },
      "outputs": [
        {
          "output_type": "stream",
          "name": "stdout",
          "text": [
            "1.26.4\n",
            "Build Dependencies:\n",
            "  blas:\n",
            "    detection method: pkgconfig\n",
            "    found: true\n",
            "    include directory: /usr/local/include\n",
            "    lib directory: /usr/local/lib\n",
            "    name: openblas64\n",
            "    openblas configuration: USE_64BITINT=1 DYNAMIC_ARCH=1 DYNAMIC_OLDER= NO_CBLAS=\n",
            "      NO_LAPACK= NO_LAPACKE= NO_AFFINITY=1 USE_OPENMP= HASWELL MAX_THREADS=2\n",
            "    pc file directory: /usr/local/lib/pkgconfig\n",
            "    version: 0.3.23.dev\n",
            "  lapack:\n",
            "    detection method: internal\n",
            "    found: true\n",
            "    include directory: unknown\n",
            "    lib directory: unknown\n",
            "    name: dep139863411681952\n",
            "    openblas configuration: unknown\n",
            "    pc file directory: unknown\n",
            "    version: 1.26.4\n",
            "Compilers:\n",
            "  c:\n",
            "    args: -fno-strict-aliasing\n",
            "    commands: cc\n",
            "    linker: ld.bfd\n",
            "    linker args: -Wl,--strip-debug, -fno-strict-aliasing\n",
            "    name: gcc\n",
            "    version: 10.2.1\n",
            "  c++:\n",
            "    commands: c++\n",
            "    linker: ld.bfd\n",
            "    linker args: -Wl,--strip-debug\n",
            "    name: gcc\n",
            "    version: 10.2.1\n",
            "  cython:\n",
            "    commands: cython\n",
            "    linker: cython\n",
            "    name: cython\n",
            "    version: 3.0.8\n",
            "Machine Information:\n",
            "  build:\n",
            "    cpu: x86_64\n",
            "    endian: little\n",
            "    family: x86_64\n",
            "    system: linux\n",
            "  host:\n",
            "    cpu: x86_64\n",
            "    endian: little\n",
            "    family: x86_64\n",
            "    system: linux\n",
            "Python Information:\n",
            "  path: /opt/python/cp310-cp310/bin/python\n",
            "  version: '3.10'\n",
            "SIMD Extensions:\n",
            "  baseline:\n",
            "  - SSE\n",
            "  - SSE2\n",
            "  - SSE3\n",
            "  found:\n",
            "  - SSSE3\n",
            "  - SSE41\n",
            "  - POPCNT\n",
            "  - SSE42\n",
            "  - AVX\n",
            "  - F16C\n",
            "  - FMA3\n",
            "  - AVX2\n",
            "  not found:\n",
            "  - AVX512F\n",
            "  - AVX512CD\n",
            "  - AVX512_KNL\n",
            "  - AVX512_KNM\n",
            "  - AVX512_SKX\n",
            "  - AVX512_CLX\n",
            "  - AVX512_CNL\n",
            "  - AVX512_ICL\n",
            "\n",
            "None\n"
          ]
        }
      ],
      "source": [
        "import numpy as np\n",
        "print(np.__version__)\n",
        "print(np.show_config())"
      ]
    },
    {
      "cell_type": "markdown",
      "id": "3e4c23c6",
      "metadata": {
        "id": "3e4c23c6"
      },
      "source": [
        "#### 3. Create a null vector of size 10 (★☆☆)"
      ]
    },
    {
      "cell_type": "code",
      "execution_count": 3,
      "id": "083c5c46",
      "metadata": {
        "id": "083c5c46",
        "outputId": "307a98bd-574d-4ceb-a3a6-630bf62cc657",
        "colab": {
          "base_uri": "https://localhost:8080/"
        }
      },
      "outputs": [
        {
          "output_type": "stream",
          "name": "stdout",
          "text": [
            "[0. 0. 0. 0. 0. 0. 0. 0. 0. 0.]\n"
          ]
        }
      ],
      "source": [
        "import numpy as np\n",
        "x=np.zeros(10)\n",
        "print(x)"
      ]
    },
    {
      "cell_type": "markdown",
      "id": "c38bbe82",
      "metadata": {
        "id": "c38bbe82"
      },
      "source": [
        "#### 4. How to find the memory size of any array (★☆☆)"
      ]
    },
    {
      "cell_type": "code",
      "execution_count": 4,
      "id": "02b04021",
      "metadata": {
        "id": "02b04021",
        "outputId": "421184f2-b862-426f-87a2-f8de08d22c0d",
        "colab": {
          "base_uri": "https://localhost:8080/"
        }
      },
      "outputs": [
        {
          "output_type": "stream",
          "name": "stdout",
          "text": [
            "Size of the array: 3\n",
            "Memory size of one array element in bytes: 8\n",
            "Memory size of numpy array in bytes: 24\n"
          ]
        }
      ],
      "source": [
        "import numpy as np\n",
        "x=np.array([100,20,34])\n",
        "print(\"Size of the array:\",x.size)\n",
        "print(\"Memory size of one array element in bytes:\",x.itemsize)\n",
        "print(\"Memory size of numpy array in bytes:\",x.size*x.itemsize)"
      ]
    },
    {
      "cell_type": "markdown",
      "id": "67f893d4",
      "metadata": {
        "id": "67f893d4"
      },
      "source": [
        "#### 5. How to get the documentation of the numpy add function from the command line? (★☆☆)"
      ]
    },
    {
      "cell_type": "code",
      "execution_count": 5,
      "id": "40e6b70d",
      "metadata": {
        "id": "40e6b70d",
        "outputId": "85e19ed5-62bd-4950-fbfb-c399e3bf1c84",
        "colab": {
          "base_uri": "https://localhost:8080/"
        }
      },
      "outputs": [
        {
          "output_type": "stream",
          "name": "stdout",
          "text": [
            "Help on ufunc:\n",
            "\n",
            "add = <ufunc 'add'>\n",
            "    add(x1, x2, /, out=None, *, where=True, casting='same_kind', order='K', dtype=None, subok=True[, signature, extobj])\n",
            "    \n",
            "    Add arguments element-wise.\n",
            "    \n",
            "    Parameters\n",
            "    ----------\n",
            "    x1, x2 : array_like\n",
            "        The arrays to be added.\n",
            "        If ``x1.shape != x2.shape``, they must be broadcastable to a common\n",
            "        shape (which becomes the shape of the output).\n",
            "    out : ndarray, None, or tuple of ndarray and None, optional\n",
            "        A location into which the result is stored. If provided, it must have\n",
            "        a shape that the inputs broadcast to. If not provided or None,\n",
            "        a freshly-allocated array is returned. A tuple (possible only as a\n",
            "        keyword argument) must have length equal to the number of outputs.\n",
            "    where : array_like, optional\n",
            "        This condition is broadcast over the input. At locations where the\n",
            "        condition is True, the `out` array will be set to the ufunc result.\n",
            "        Elsewhere, the `out` array will retain its original value.\n",
            "        Note that if an uninitialized `out` array is created via the default\n",
            "        ``out=None``, locations within it where the condition is False will\n",
            "        remain uninitialized.\n",
            "    **kwargs\n",
            "        For other keyword-only arguments, see the\n",
            "        :ref:`ufunc docs <ufuncs.kwargs>`.\n",
            "    \n",
            "    Returns\n",
            "    -------\n",
            "    add : ndarray or scalar\n",
            "        The sum of `x1` and `x2`, element-wise.\n",
            "        This is a scalar if both `x1` and `x2` are scalars.\n",
            "    \n",
            "    Notes\n",
            "    -----\n",
            "    Equivalent to `x1` + `x2` in terms of array broadcasting.\n",
            "    \n",
            "    Examples\n",
            "    --------\n",
            "    >>> np.add(1.0, 4.0)\n",
            "    5.0\n",
            "    >>> x1 = np.arange(9.0).reshape((3, 3))\n",
            "    >>> x2 = np.arange(3.0)\n",
            "    >>> np.add(x1, x2)\n",
            "    array([[  0.,   2.,   4.],\n",
            "           [  3.,   5.,   7.],\n",
            "           [  6.,   8.,  10.]])\n",
            "    \n",
            "    The ``+`` operator can be used as a shorthand for ``np.add`` on ndarrays.\n",
            "    \n",
            "    >>> x1 = np.arange(9.0).reshape((3, 3))\n",
            "    >>> x2 = np.arange(3.0)\n",
            "    >>> x1 + x2\n",
            "    array([[ 0.,  2.,  4.],\n",
            "           [ 3.,  5.,  7.],\n",
            "           [ 6.,  8., 10.]])\n",
            "\n"
          ]
        }
      ],
      "source": [
        "import numpy as np\n",
        "help(np.add)"
      ]
    },
    {
      "cell_type": "markdown",
      "id": "e0c739c6",
      "metadata": {
        "id": "e0c739c6"
      },
      "source": [
        "#### 6. Create a null vector of size 10 but the fifth value which is 1 (★☆☆)"
      ]
    },
    {
      "cell_type": "code",
      "execution_count": 6,
      "id": "bcceacf7",
      "metadata": {
        "id": "bcceacf7",
        "outputId": "fe56e303-fb3f-4342-cdbe-63072eaa75ee",
        "colab": {
          "base_uri": "https://localhost:8080/"
        }
      },
      "outputs": [
        {
          "output_type": "stream",
          "name": "stdout",
          "text": [
            "[0 0 0 0 0 1 0 0 0 0]\n"
          ]
        }
      ],
      "source": [
        "import numpy as np\n",
        "x=np.zeros(10, dtype=int)\n",
        "if x[5]==0:\n",
        "    x[5]=1\n",
        "print(x)"
      ]
    },
    {
      "cell_type": "markdown",
      "id": "fbebedab",
      "metadata": {
        "id": "fbebedab"
      },
      "source": [
        "#### 7. Create a vector with values ranging from 10 to 49 (★☆☆)"
      ]
    },
    {
      "cell_type": "code",
      "execution_count": 7,
      "id": "3d117d54",
      "metadata": {
        "id": "3d117d54",
        "outputId": "126330c6-e2bb-48b2-c8db-fe5fa4da94c9",
        "colab": {
          "base_uri": "https://localhost:8080/"
        }
      },
      "outputs": [
        {
          "output_type": "stream",
          "name": "stdout",
          "text": [
            "[10 11 12 13 14 15 16 17 18 19 20 21 22 23 24 25 26 27 28 29 30 31 32 33\n",
            " 34 35 36 37 38 39 40 41 42 43 44 45 46 47 48 49]\n"
          ]
        }
      ],
      "source": [
        "import numpy as np\n",
        "z=np.arange(10,50)\n",
        "print(z)"
      ]
    },
    {
      "cell_type": "markdown",
      "id": "ad0bff02",
      "metadata": {
        "id": "ad0bff02"
      },
      "source": [
        "#### 8. Reverse a vector (first element becomes last) (★☆☆)"
      ]
    },
    {
      "cell_type": "code",
      "execution_count": 12,
      "id": "22d23470",
      "metadata": {
        "id": "22d23470",
        "outputId": "07eccccb-7667-4eda-b7bb-240ca98383ee",
        "colab": {
          "base_uri": "https://localhost:8080/"
        }
      },
      "outputs": [
        {
          "output_type": "stream",
          "name": "stdout",
          "text": [
            "[99 98 97 96 95 94 93 92 91 90 89 88 87 86 85 84 83 82 81 80 79 78 77 76\n",
            " 75 74 73 72 71 70 69 68 67 66 65 64 63 62 61 60 59 58 57 56 55 54 53 52\n",
            " 51 50 49 48 47 46 45 44 43 42 41 40 39 38 37 36 35 34 33 32 31 30 29 28\n",
            " 27 26 25 24 23 22 21 20 19 18 17 16 15 14 13 12 11 10  9  8  7  6  5  4\n",
            "  3  2  1  0]\n"
          ]
        }
      ],
      "source": [
        "import numpy as np\n",
        "y=np.arange(100)\n",
        "y= y[::-1]\n",
        "print(y)"
      ]
    },
    {
      "cell_type": "markdown",
      "id": "9f59d7e1",
      "metadata": {
        "id": "9f59d7e1"
      },
      "source": [
        "#### 9. Create a 3x3 matrix with values ranging from 0 to 8 (★☆☆)"
      ]
    },
    {
      "cell_type": "code",
      "execution_count": 11,
      "id": "7449e82d",
      "metadata": {
        "id": "7449e82d",
        "outputId": "e0c137db-4cd7-4cdf-c1ed-9de4daa2f2e5",
        "colab": {
          "base_uri": "https://localhost:8080/"
        }
      },
      "outputs": [
        {
          "output_type": "stream",
          "name": "stdout",
          "text": [
            "[[0 1 2]\n",
            " [3 4 5]\n",
            " [6 7 8]]\n"
          ]
        }
      ],
      "source": [
        "x=np.arange(9).reshape(3,3)\n",
        "print(x)"
      ]
    },
    {
      "cell_type": "markdown",
      "id": "f374c4cf",
      "metadata": {
        "id": "f374c4cf"
      },
      "source": [
        "#### 10. Find indices of non-zero elements from [1,2,0,0,4,0] (★☆☆)"
      ]
    },
    {
      "cell_type": "code",
      "execution_count": 13,
      "id": "1a84bed8",
      "metadata": {
        "id": "1a84bed8",
        "outputId": "283c7d89-362f-442c-b317-717cecbee751",
        "colab": {
          "base_uri": "https://localhost:8080/"
        }
      },
      "outputs": [
        {
          "output_type": "stream",
          "name": "stdout",
          "text": [
            "(array([0, 1, 4]),)\n"
          ]
        }
      ],
      "source": [
        "s=np.nonzero([1,2,0,0,4,0])\n",
        "print(s)"
      ]
    },
    {
      "cell_type": "markdown",
      "id": "9c4707f5",
      "metadata": {
        "id": "9c4707f5"
      },
      "source": [
        "#### 11. Create a 3x3 identity matrix (★☆☆)"
      ]
    },
    {
      "cell_type": "code",
      "execution_count": 14,
      "id": "29dc1fd3",
      "metadata": {
        "id": "29dc1fd3",
        "outputId": "1530d325-7ce8-4f32-c15c-d710aa22c328",
        "colab": {
          "base_uri": "https://localhost:8080/"
        }
      },
      "outputs": [
        {
          "output_type": "stream",
          "name": "stdout",
          "text": [
            "[[1. 0. 0.]\n",
            " [0. 1. 0.]\n",
            " [0. 0. 1.]]\n"
          ]
        }
      ],
      "source": [
        "N=np.eye(3)\n",
        "print(N)"
      ]
    },
    {
      "cell_type": "markdown",
      "id": "3bac294a",
      "metadata": {
        "id": "3bac294a"
      },
      "source": [
        "#### 12. Create a 3x3x3 array with random values (★☆☆)"
      ]
    },
    {
      "cell_type": "code",
      "execution_count": 15,
      "id": "eadfae67",
      "metadata": {
        "id": "eadfae67",
        "outputId": "1bb3e29f-61cc-402f-a18a-ff7e1c16cefa",
        "colab": {
          "base_uri": "https://localhost:8080/"
        }
      },
      "outputs": [
        {
          "output_type": "stream",
          "name": "stdout",
          "text": [
            "[[[0.96912018 0.73046414 0.33420789]\n",
            "  [0.80614701 0.51278606 0.26946398]\n",
            "  [0.33396499 0.05390415 0.69680815]]\n",
            "\n",
            " [[0.15483459 0.45653696 0.67577795]\n",
            "  [0.55072518 0.90453108 0.01927691]\n",
            "  [0.10836697 0.94894382 0.56613241]]\n",
            "\n",
            " [[0.56425637 0.76363391 0.5947245 ]\n",
            "  [0.95131434 0.55873517 0.69608357]\n",
            "  [0.83448063 0.81099037 0.27370766]]]\n"
          ]
        }
      ],
      "source": [
        "Y=np.random.random((3,3,3))\n",
        "print(Y)"
      ]
    },
    {
      "cell_type": "markdown",
      "id": "466c2989",
      "metadata": {
        "id": "466c2989"
      },
      "source": [
        "#### 13. Create a 10x10 array with random values and find the minimum and maximum values (★☆☆)"
      ]
    },
    {
      "cell_type": "code",
      "execution_count": 16,
      "id": "9a74dbfc",
      "metadata": {
        "id": "9a74dbfc",
        "outputId": "a2ca6919-16af-410e-c534-bb0804c1ea59",
        "colab": {
          "base_uri": "https://localhost:8080/"
        }
      },
      "outputs": [
        {
          "output_type": "stream",
          "name": "stdout",
          "text": [
            "0.024001291638077404 0.9894611496134286\n"
          ]
        }
      ],
      "source": [
        "X=np.random.random((10,10))\n",
        "Xmin,Xmax=X.min(),X.max()\n",
        "print(Xmin,Xmax)"
      ]
    },
    {
      "cell_type": "markdown",
      "id": "53a8edb2",
      "metadata": {
        "id": "53a8edb2"
      },
      "source": [
        "#### 14. Create a random vector of size 30 and find the mean value (★☆☆)"
      ]
    },
    {
      "cell_type": "code",
      "execution_count": 17,
      "id": "6691530b",
      "metadata": {
        "id": "6691530b",
        "outputId": "b5491da6-898b-4643-87c0-23a031bb9527",
        "colab": {
          "base_uri": "https://localhost:8080/"
        }
      },
      "outputs": [
        {
          "output_type": "stream",
          "name": "stdout",
          "text": [
            "0.4818031039172606\n"
          ]
        }
      ],
      "source": [
        "y=np.random.random(30)\n",
        "m=y.mean()\n",
        "print(m)"
      ]
    },
    {
      "cell_type": "markdown",
      "id": "cbaad31c",
      "metadata": {
        "id": "cbaad31c"
      },
      "source": [
        "#### 15. Create a 2d array with 1 on the border and 0 inside (★☆☆)"
      ]
    },
    {
      "cell_type": "code",
      "execution_count": 18,
      "id": "ad8308e3",
      "metadata": {
        "id": "ad8308e3",
        "outputId": "681702fc-6792-448c-95a2-f03d805fd366",
        "colab": {
          "base_uri": "https://localhost:8080/"
        }
      },
      "outputs": [
        {
          "output_type": "stream",
          "name": "stdout",
          "text": [
            "[[1. 1. 1. 1. 1. 1. 1. 1. 1. 1.]\n",
            " [1. 0. 0. 0. 0. 0. 0. 0. 0. 1.]\n",
            " [1. 0. 0. 0. 0. 0. 0. 0. 0. 1.]\n",
            " [1. 0. 0. 0. 0. 0. 0. 0. 0. 1.]\n",
            " [1. 0. 0. 0. 0. 0. 0. 0. 0. 1.]\n",
            " [1. 0. 0. 0. 0. 0. 0. 0. 0. 1.]\n",
            " [1. 0. 0. 0. 0. 0. 0. 0. 0. 1.]\n",
            " [1. 0. 0. 0. 0. 0. 0. 0. 0. 1.]\n",
            " [1. 0. 0. 0. 0. 0. 0. 0. 0. 1.]\n",
            " [1. 1. 1. 1. 1. 1. 1. 1. 1. 1.]]\n"
          ]
        }
      ],
      "source": [
        "a=np.ones((10,10))\n",
        "a[1:-1,1:-1] = 0\n",
        "print(a)"
      ]
    },
    {
      "cell_type": "markdown",
      "id": "c5ecc267",
      "metadata": {
        "id": "c5ecc267"
      },
      "source": [
        "#### 16. How to add a border (filled with 0's) around an existing array? (★☆☆)"
      ]
    },
    {
      "cell_type": "code",
      "execution_count": 19,
      "id": "9d5c78c4",
      "metadata": {
        "id": "9d5c78c4",
        "outputId": "b11816e0-ee42-4fe6-cf7d-81d7a5470bfa",
        "colab": {
          "base_uri": "https://localhost:8080/"
        }
      },
      "outputs": [
        {
          "output_type": "stream",
          "name": "stdout",
          "text": [
            "[[0. 0. 0. 0. 0. 0. 0. 0. 0. 0.]\n",
            " [0. 1. 1. 1. 1. 1. 1. 1. 1. 0.]\n",
            " [0. 1. 1. 1. 1. 1. 1. 1. 1. 0.]\n",
            " [0. 1. 1. 1. 1. 1. 1. 1. 1. 0.]\n",
            " [0. 1. 1. 1. 1. 1. 1. 1. 1. 0.]\n",
            " [0. 1. 1. 1. 1. 1. 1. 1. 1. 0.]\n",
            " [0. 1. 1. 1. 1. 1. 1. 1. 1. 0.]\n",
            " [0. 1. 1. 1. 1. 1. 1. 1. 1. 0.]\n",
            " [0. 1. 1. 1. 1. 1. 1. 1. 1. 0.]\n",
            " [0. 0. 0. 0. 0. 0. 0. 0. 0. 0.]]\n",
            "[[0. 0. 0. 0. 0. 0. 0. 0. 0. 0.]\n",
            " [0. 1. 1. 1. 1. 1. 1. 1. 1. 0.]\n",
            " [0. 1. 1. 1. 1. 1. 1. 1. 1. 0.]\n",
            " [0. 1. 1. 1. 1. 1. 1. 1. 1. 0.]\n",
            " [0. 1. 1. 1. 1. 1. 1. 1. 1. 0.]\n",
            " [0. 1. 1. 1. 1. 1. 1. 1. 1. 0.]\n",
            " [0. 1. 1. 1. 1. 1. 1. 1. 1. 0.]\n",
            " [0. 1. 1. 1. 1. 1. 1. 1. 1. 0.]\n",
            " [0. 1. 1. 1. 1. 1. 1. 1. 1. 0.]\n",
            " [0. 0. 0. 0. 0. 0. 0. 0. 0. 0.]]\n"
          ]
        }
      ],
      "source": [
        "import numpy as np\n",
        "A= np.ones((8,8))\n",
        "A=np.pad(A, pad_width=1, mode='constant',constant_values=0)\n",
        "print(A)\n",
        "A[:,[0,-1]] = 0\n",
        "A[[0,-1], :] = 0\n",
        "print(A)"
      ]
    },
    {
      "cell_type": "markdown",
      "id": "ef909b72",
      "metadata": {
        "id": "ef909b72"
      },
      "source": [
        "#### 17. What is the result of the following expression? (★☆☆)\n",
        "```python\n",
        "0 * np.nan\n",
        "np.nan == np.nan\n",
        "np.inf > np.nan\n",
        "np.nan - np.nan\n",
        "np.nan in set([np.nan])\n",
        "0.3 == 3 * 0.1\n",
        "```"
      ]
    },
    {
      "cell_type": "code",
      "execution_count": 20,
      "id": "3b4985f2",
      "metadata": {
        "id": "3b4985f2",
        "outputId": "e87a32c9-5e0b-4f60-8479-a23d735bb494",
        "colab": {
          "base_uri": "https://localhost:8080/"
        }
      },
      "outputs": [
        {
          "output_type": "stream",
          "name": "stdout",
          "text": [
            "nan\n",
            "False\n",
            "False\n",
            "nan\n",
            "True\n",
            "False\n"
          ]
        }
      ],
      "source": [
        "print(0 * np.nan)\n",
        "print(np.nan==np.nan)\n",
        "print(np.inf > np.nan)\n",
        "print(np.nan - np.nan)\n",
        "print(np.nan in set([np.nan]))\n",
        "print(0.3 == 3 * 0.1)"
      ]
    },
    {
      "cell_type": "markdown",
      "id": "502738ac",
      "metadata": {
        "id": "502738ac"
      },
      "source": [
        "#### 18. Create a 5x5 matrix with values 1,2,3,4 just below the diagonal (★☆☆)"
      ]
    },
    {
      "cell_type": "code",
      "execution_count": 21,
      "id": "faed6e2b",
      "metadata": {
        "id": "faed6e2b",
        "outputId": "cb5ce7f9-a23e-4618-d105-381485093208",
        "colab": {
          "base_uri": "https://localhost:8080/"
        }
      },
      "outputs": [
        {
          "output_type": "stream",
          "name": "stdout",
          "text": [
            "[[0 0 0 0 0]\n",
            " [1 0 0 0 0]\n",
            " [0 2 0 0 0]\n",
            " [0 0 3 0 0]\n",
            " [0 0 0 4 0]]\n"
          ]
        }
      ],
      "source": [
        "X=np.diag(1+np.arange(4),k=-1)\n",
        "print(X)"
      ]
    },
    {
      "cell_type": "markdown",
      "id": "a65da660",
      "metadata": {
        "id": "a65da660"
      },
      "source": [
        "#### 19. Create a 8x8 matrix and fill it with a checkerboard pattern (★☆☆)"
      ]
    },
    {
      "cell_type": "code",
      "execution_count": 22,
      "id": "ed150400",
      "metadata": {
        "id": "ed150400",
        "outputId": "ee48ed6e-2e19-45ea-c974-9773fa5c010c",
        "colab": {
          "base_uri": "https://localhost:8080/"
        }
      },
      "outputs": [
        {
          "output_type": "stream",
          "name": "stdout",
          "text": [
            "[[0 1 0 1 0 1 0 1]\n",
            " [1 0 1 0 1 0 1 0]\n",
            " [0 1 0 1 0 1 0 1]\n",
            " [1 0 1 0 1 0 1 0]\n",
            " [0 1 0 1 0 1 0 1]\n",
            " [1 0 1 0 1 0 1 0]\n",
            " [0 1 0 1 0 1 0 1]\n",
            " [1 0 1 0 1 0 1 0]]\n"
          ]
        }
      ],
      "source": [
        "M=np.zeros((8,8),dtype=int)\n",
        "M[1::2,::2] =1\n",
        "M[::2,1::2] =1\n",
        "print(M)"
      ]
    },
    {
      "cell_type": "markdown",
      "id": "9f7f9c49",
      "metadata": {
        "id": "9f7f9c49"
      },
      "source": [
        "#### 20. Consider a (6,7,8) shape array, what is the index (x,y,z) of the 100th element? (★☆☆)"
      ]
    },
    {
      "cell_type": "code",
      "execution_count": 23,
      "id": "3782b5a9",
      "metadata": {
        "id": "3782b5a9",
        "outputId": "0fd11f72-fe24-4d45-cc69-40aa57bddc55",
        "colab": {
          "base_uri": "https://localhost:8080/"
        }
      },
      "outputs": [
        {
          "output_type": "stream",
          "name": "stdout",
          "text": [
            "(1, 5, 3)\n"
          ]
        }
      ],
      "source": [
        "import numpy as np\n",
        "print(np.unravel_index(99,(6,7,8)))"
      ]
    },
    {
      "cell_type": "markdown",
      "id": "66bfda35",
      "metadata": {
        "id": "66bfda35"
      },
      "source": [
        "#### 21. Create a checkerboard 8x8 matrix using the tile function (★☆☆)"
      ]
    },
    {
      "cell_type": "code",
      "execution_count": 24,
      "id": "4c07477c",
      "metadata": {
        "id": "4c07477c",
        "outputId": "ec89eb00-0f02-4ca4-e8e7-20f429d0edc8",
        "colab": {
          "base_uri": "https://localhost:8080/"
        }
      },
      "outputs": [
        {
          "output_type": "stream",
          "name": "stdout",
          "text": [
            "[[0 1 0 1 0 1 0 1]\n",
            " [1 0 1 0 1 0 1 0]\n",
            " [0 1 0 1 0 1 0 1]\n",
            " [1 0 1 0 1 0 1 0]\n",
            " [0 1 0 1 0 1 0 1]\n",
            " [1 0 1 0 1 0 1 0]\n",
            " [0 1 0 1 0 1 0 1]\n",
            " [1 0 1 0 1 0 1 0]]\n"
          ]
        }
      ],
      "source": [
        "import numpy as np\n",
        "X= np.tile(np.array([[0,1], [1,0]]), (4,4))\n",
        "print (X)"
      ]
    },
    {
      "cell_type": "markdown",
      "id": "d5bcfc08",
      "metadata": {
        "id": "d5bcfc08"
      },
      "source": [
        "#### 22. Normalize a 5x5 random matrix (★☆☆)"
      ]
    },
    {
      "cell_type": "code",
      "execution_count": 25,
      "id": "cea6c993",
      "metadata": {
        "id": "cea6c993",
        "outputId": "fb8540f4-5d24-485e-d5a8-248bda746e07",
        "colab": {
          "base_uri": "https://localhost:8080/"
        }
      },
      "outputs": [
        {
          "output_type": "stream",
          "name": "stdout",
          "text": [
            "[[-1.57529625 -0.36632862  0.61467777 -1.25986414  0.43516595]\n",
            " [ 0.25478588  1.7332775  -0.49127521 -1.21098595  0.19857096]\n",
            " [ 0.99556712 -1.59018934  0.00409358 -1.08002736 -0.28302253]\n",
            " [ 0.1231953  -1.31519409  1.24010204 -0.61767133 -0.56758031]\n",
            " [ 0.53586505  1.75860925 -0.04924511  1.50255574  1.0102141 ]]\n"
          ]
        }
      ],
      "source": [
        "T=np.random.random((5,5))\n",
        "T=(T-np.mean(T))/(np.std(T))\n",
        "print(T)"
      ]
    },
    {
      "cell_type": "markdown",
      "id": "f9a0911e",
      "metadata": {
        "id": "f9a0911e"
      },
      "source": [
        "#### 23. Create a custom dtype that describes a color as four unsigned bytes (RGBA) (★☆☆)"
      ]
    },
    {
      "cell_type": "code",
      "execution_count": 26,
      "id": "d165044b",
      "metadata": {
        "id": "d165044b"
      },
      "outputs": [],
      "source": [
        "import numpy as np\n",
        "color = np.dtype([(\"r\",np.ubyte),\n",
        "                  (\"g\",np.ubyte),\n",
        "                  (\"b\",np.ubyte),\n",
        "                  (\"a\",np.ubyte)])"
      ]
    },
    {
      "cell_type": "markdown",
      "id": "654805b1",
      "metadata": {
        "id": "654805b1"
      },
      "source": [
        "#### 24. Multiply a 5x3 matrix by a 3x2 matrix (real matrix product) (★☆☆)"
      ]
    },
    {
      "cell_type": "code",
      "execution_count": 27,
      "id": "6a42619f",
      "metadata": {
        "id": "6a42619f",
        "outputId": "848eb542-5830-44ed-c594-3be38795ab5c",
        "colab": {
          "base_uri": "https://localhost:8080/"
        }
      },
      "outputs": [
        {
          "output_type": "stream",
          "name": "stdout",
          "text": [
            "[[3. 3.]\n",
            " [3. 3.]\n",
            " [3. 3.]\n",
            " [3. 3.]\n",
            " [3. 3.]]\n",
            "[[3. 3.]\n",
            " [3. 3.]\n",
            " [3. 3.]\n",
            " [3. 3.]\n",
            " [3. 3.]]\n"
          ]
        }
      ],
      "source": [
        "A=np.dot(np.ones((5,3)), np.ones((3,2)))\n",
        "print(A)\n",
        "A=np.ones((5,3)) @ np.ones((3,2))\n",
        "print(A)"
      ]
    },
    {
      "cell_type": "markdown",
      "id": "994c25df",
      "metadata": {
        "id": "994c25df"
      },
      "source": [
        "#### 25. Given a 1D array, negate all elements which are between 3 and 8, in place. (★☆☆)"
      ]
    },
    {
      "cell_type": "code",
      "execution_count": 29,
      "id": "e4b39c03",
      "metadata": {
        "id": "e4b39c03",
        "outputId": "d8f9c7ad-8e22-45c9-eb39-75f511ae7be1",
        "colab": {
          "base_uri": "https://localhost:8080/"
        }
      },
      "outputs": [
        {
          "output_type": "execute_result",
          "data": {
            "text/plain": [
              "[0, 1, 2, 3, -4, -5, -6, -7, -8, 9, 10]"
            ]
          },
          "metadata": {},
          "execution_count": 29
        }
      ],
      "source": [
        "[0, 1, 2, 3, -4, -5, -6, -7, -8, 9, 10]"
      ]
    },
    {
      "cell_type": "markdown",
      "id": "b7d15d1a",
      "metadata": {
        "id": "b7d15d1a"
      },
      "source": [
        "#### 26. What is the output of the following script? (★☆☆)\n",
        "```python\n",
        "# Author: Jake VanderPlas\n",
        "\n",
        "print(sum(range(5),-1))\n",
        "from numpy import *\n",
        "print(sum(range(5),-1))\n",
        "```"
      ]
    },
    {
      "cell_type": "code",
      "execution_count": 30,
      "id": "4c95bc3f",
      "metadata": {
        "id": "4c95bc3f",
        "outputId": "b32f2bbf-614b-431b-ad28-ada051a572d8",
        "colab": {
          "base_uri": "https://localhost:8080/"
        }
      },
      "outputs": [
        {
          "output_type": "stream",
          "name": "stdout",
          "text": [
            "9\n",
            "10\n"
          ]
        }
      ],
      "source": [
        "print(sum(range(5),-1))\n",
        "from numpy import *\n",
        "print(sum(range(5),-1))"
      ]
    },
    {
      "cell_type": "markdown",
      "id": "a34f0d08",
      "metadata": {
        "id": "a34f0d08"
      },
      "source": [
        "#### 27. Consider an integer vector Z, which of these expressions are legal? (★☆☆)\n",
        "```python\n",
        "Z**Z\n",
        "2 << Z >> 2\n",
        "Z <- Z\n",
        "1j*Z\n",
        "Z/1/1\n",
        "Z<Z>Z\n",
        "```"
      ]
    },
    {
      "cell_type": "code",
      "execution_count": 31,
      "id": "564658fc",
      "metadata": {
        "id": "564658fc",
        "outputId": "24d4be20-7ea1-4002-8f15-a1c8c9b98bb9",
        "colab": {
          "base_uri": "https://localhost:8080/"
        }
      },
      "outputs": [
        {
          "output_type": "execute_result",
          "data": {
            "text/plain": [
              "array([ 1,  2,  4,  8, 16])"
            ]
          },
          "metadata": {},
          "execution_count": 31
        }
      ],
      "source": [
        "# Assuming you want Z to be an array of numbers,\n",
        "# for example, an array of floats:\n",
        "import numpy as np\n",
        "\n",
        "Z = np.array([1.1, 2.2, 3.3, 4.4, 5.5])\n",
        "Z = Z.astype(int)\n",
        "2 << Z >> 2"
      ]
    },
    {
      "cell_type": "markdown",
      "id": "c34e94bf",
      "metadata": {
        "id": "c34e94bf"
      },
      "source": [
        "#### 28. What are the result of the following expressions? (★☆☆)\n",
        "```python\n",
        "np.array(0) / np.array(0)\n",
        "np.array(0) // np.array(0)\n",
        "np.array([np.nan]).astype(int).astype(float)\n",
        "```"
      ]
    },
    {
      "cell_type": "code",
      "execution_count": 32,
      "id": "56663562",
      "metadata": {
        "id": "56663562",
        "outputId": "c0a7e1ed-8e6f-4622-f4ec-a6297c562427",
        "colab": {
          "base_uri": "https://localhost:8080/"
        }
      },
      "outputs": [
        {
          "output_type": "stream",
          "name": "stdout",
          "text": [
            "nan\n",
            "0\n",
            "[-9.22337204e+18]\n"
          ]
        },
        {
          "output_type": "stream",
          "name": "stderr",
          "text": [
            "<ipython-input-32-2a10de0ee61b>:1: RuntimeWarning: invalid value encountered in divide\n",
            "  print(np.array(0) / np.array(0))\n",
            "<ipython-input-32-2a10de0ee61b>:2: RuntimeWarning: divide by zero encountered in floor_divide\n",
            "  print(np.array(0) // np.array(0))\n",
            "<ipython-input-32-2a10de0ee61b>:3: RuntimeWarning: invalid value encountered in cast\n",
            "  print(np.array([np.nan]).astype(int).astype(float))\n"
          ]
        }
      ],
      "source": [
        "print(np.array(0) / np.array(0))\n",
        "print(np.array(0) // np.array(0))\n",
        "print(np.array([np.nan]).astype(int).astype(float))"
      ]
    },
    {
      "cell_type": "markdown",
      "id": "546f5e7b",
      "metadata": {
        "id": "546f5e7b"
      },
      "source": [
        "#### 29. How to round away from zero a float array ? (★☆☆)"
      ]
    },
    {
      "cell_type": "code",
      "execution_count": 33,
      "id": "f725a6d2",
      "metadata": {
        "id": "f725a6d2",
        "outputId": "d857b19b-baf2-4e35-80d8-845c90427366",
        "colab": {
          "base_uri": "https://localhost:8080/"
        }
      },
      "outputs": [
        {
          "output_type": "stream",
          "name": "stdout",
          "text": [
            "[ 1. -5.  8.  2. -8. -8.  5.  6.  6.  1.]\n",
            "[ 1. -5.  8.  2. -8. -8.  5.  6.  6.  1.]\n"
          ]
        }
      ],
      "source": [
        "Z= np.random.uniform(-10,+10,10)\n",
        "print(np.copysign(np.ceil(np.abs(Z)), Z))\n",
        "print(np.where(Z>0, np.ceil(Z), np.floor(Z)))"
      ]
    },
    {
      "cell_type": "markdown",
      "id": "eadca856",
      "metadata": {
        "id": "eadca856"
      },
      "source": [
        "#### 30. How to find common values between two arrays? (★☆☆)"
      ]
    },
    {
      "cell_type": "code",
      "execution_count": 34,
      "id": "e0270b5b",
      "metadata": {
        "id": "e0270b5b",
        "outputId": "39669268-20b6-41e4-8f86-a8553722c0e6",
        "colab": {
          "base_uri": "https://localhost:8080/"
        }
      },
      "outputs": [
        {
          "output_type": "stream",
          "name": "stdout",
          "text": [
            "[  1   2   3   4   5   8   9  10  11  12  15  16  20  21  22  24  27  29\n",
            "  34  35  36  38  39  40  45  52  61  63  66  67  68  69  73  74  81  84\n",
            "  86  87  90 100 103 104 106 107 110 113 115 119 124 125 128 132 133 134\n",
            " 143 147 148 151 154 157 158 160 163 178 179 181 182 185 187 188 189 192\n",
            " 193 195 198]\n"
          ]
        }
      ],
      "source": [
        "A1=np.random.randint(0,200,200)\n",
        "A2=np.random.randint(0,200,200)\n",
        "print(np.intersect1d(A1,A2))"
      ]
    },
    {
      "cell_type": "markdown",
      "id": "ca16ca22",
      "metadata": {
        "id": "ca16ca22"
      },
      "source": [
        "#### 31. How to ignore all numpy warnings (not recommended)? (★☆☆)"
      ]
    },
    {
      "cell_type": "code",
      "execution_count": 35,
      "id": "7d7208ef",
      "metadata": {
        "id": "7d7208ef",
        "outputId": "6f1e7ab8-38c6-495e-806d-c43c799044c4",
        "colab": {
          "base_uri": "https://localhost:8080/"
        }
      },
      "outputs": [
        {
          "output_type": "stream",
          "name": "stdout",
          "text": [
            "[nan inf inf]\n"
          ]
        }
      ],
      "source": [
        "defaults = np.seterr(all=\"ignore\")\n",
        "X=np.ones(1)/0\n",
        "np.seterr(**defaults)\n",
        "with np.errstate(all=\"ignore\"):\n",
        "    np.arange(3)/0\n",
        "    X=np.arange(3)/0\n",
        "    print(X)"
      ]
    },
    {
      "cell_type": "markdown",
      "id": "c7871d0d",
      "metadata": {
        "id": "c7871d0d"
      },
      "source": [
        "#### 32. Is the following expressions true? (★☆☆)\n",
        "```python\n",
        "np.sqrt(-1) == np.emath.sqrt(-1)\n",
        "```"
      ]
    },
    {
      "cell_type": "code",
      "execution_count": 36,
      "id": "acc3701a",
      "metadata": {
        "id": "acc3701a",
        "outputId": "9c1f8166-85d1-4c20-ae4d-758112f0e9bd",
        "colab": {
          "base_uri": "https://localhost:8080/"
        }
      },
      "outputs": [
        {
          "output_type": "stream",
          "name": "stderr",
          "text": [
            "<ipython-input-36-5295bc09d449>:2: RuntimeWarning: invalid value encountered in sqrt\n",
            "  np.sqrt(-1)==np.emath.sqrt(-1)\n",
            "<ipython-input-36-5295bc09d449>:3: RuntimeWarning: invalid value encountered in sqrt\n",
            "  np.sqrt(-1)==np.emath.sqrt(-1)\n"
          ]
        },
        {
          "output_type": "execute_result",
          "data": {
            "text/plain": [
              "False"
            ]
          },
          "metadata": {},
          "execution_count": 36
        }
      ],
      "source": [
        "import numpy as np\n",
        "np.sqrt(-1)==np.emath.sqrt(-1)\n",
        "np.sqrt(-1)==np.emath.sqrt(-1)"
      ]
    },
    {
      "cell_type": "markdown",
      "id": "e0433e30",
      "metadata": {
        "id": "e0433e30"
      },
      "source": [
        "#### 33. How to get the dates of yesterday, today and tomorrow? (★☆☆)"
      ]
    },
    {
      "cell_type": "code",
      "execution_count": 37,
      "id": "9c4d2152",
      "metadata": {
        "id": "9c4d2152",
        "outputId": "2c83fb70-19de-4e6f-ccb5-a7728eaa95ba",
        "colab": {
          "base_uri": "https://localhost:8080/"
        }
      },
      "outputs": [
        {
          "output_type": "stream",
          "name": "stdout",
          "text": [
            "2024-12-01\n",
            "2024-12-02\n",
            "2024-12-03\n"
          ]
        }
      ],
      "source": [
        "import numpy as np\n",
        "yesterday=np.datetime64('today')-np.timedelta64(1)\n",
        "today=np.datetime64('today')\n",
        "tomorrow=np.datetime64('today')+np.timedelta64(1)\n",
        "print(yesterday)\n",
        "print(today)\n",
        "print(tomorrow)"
      ]
    },
    {
      "cell_type": "markdown",
      "id": "9f52a2ef",
      "metadata": {
        "id": "9f52a2ef"
      },
      "source": [
        "#### 34. How to get all the dates corresponding to the month of July 2016? (★★☆)"
      ]
    },
    {
      "cell_type": "code",
      "execution_count": 39,
      "id": "d6c34dec",
      "metadata": {
        "id": "d6c34dec",
        "outputId": "d20e99ab-d7e2-4c00-d5e1-0b9df265da0d",
        "colab": {
          "base_uri": "https://localhost:8080/"
        }
      },
      "outputs": [
        {
          "output_type": "stream",
          "name": "stdout",
          "text": [
            "['2016-07-01' '2016-07-02' '2016-07-03' '2016-07-04' '2016-07-05'\n",
            " '2016-07-06' '2016-07-07' '2016-07-08' '2016-07-09' '2016-07-10'\n",
            " '2016-07-11' '2016-07-12' '2016-07-13' '2016-07-14' '2016-07-15'\n",
            " '2016-07-16' '2016-07-17' '2016-07-18' '2016-07-19' '2016-07-20'\n",
            " '2016-07-21' '2016-07-22' '2016-07-23' '2016-07-24' '2016-07-25'\n",
            " '2016-07-26' '2016-07-27' '2016-07-28' '2016-07-29' '2016-07-30'\n",
            " '2016-07-31']\n"
          ]
        }
      ],
      "source": [
        "L=np.arange('2016-07','2016-08',dtype='datetime64[D]')\n",
        "print(L)"
      ]
    },
    {
      "cell_type": "markdown",
      "id": "4a64e059",
      "metadata": {
        "id": "4a64e059"
      },
      "source": [
        "#### 35. How to compute ((A+B)*(-A/2)) in place (without copy)? (★★☆)"
      ]
    },
    {
      "cell_type": "code",
      "execution_count": 40,
      "id": "49267f60",
      "metadata": {
        "id": "49267f60",
        "outputId": "cbd06e51-2e4d-40ce-f6cd-71b6ab9fa72c",
        "colab": {
          "base_uri": "https://localhost:8080/"
        }
      },
      "outputs": [
        {
          "output_type": "execute_result",
          "data": {
            "text/plain": [
              "array([-5., -5., -5., -5., -5.])"
            ]
          },
          "metadata": {},
          "execution_count": 40
        }
      ],
      "source": [
        "X=np.ones(5)*2\n",
        "Y=np.ones(5)*3\n",
        "np.add(X,Y,out=Y)\n",
        "np.divide(X,2,out=X)\n",
        "np.negative(X,out=X)\n",
        "np.multiply(X,Y,out=X)"
      ]
    },
    {
      "cell_type": "markdown",
      "id": "8a98c2a8",
      "metadata": {
        "id": "8a98c2a8"
      },
      "source": [
        "#### 36. Extract the integer part of a random array of positive numbers using 4 different methods (★★☆)"
      ]
    },
    {
      "cell_type": "code",
      "execution_count": 41,
      "id": "368130b3",
      "metadata": {
        "id": "368130b3",
        "outputId": "eb0e4f79-5ea3-4cbc-f418-e23a7a8440d2",
        "colab": {
          "base_uri": "https://localhost:8080/"
        }
      },
      "outputs": [
        {
          "output_type": "stream",
          "name": "stdout",
          "text": [
            "[ 0. 24. 31. 45. 10. 20. 33. 43.  5. 39. 42. 13. 27. 33. 30. 36. 18. 46.\n",
            " 14. 47. 10. 32.  9. 23. 34. 27.  5. 26. 30. 26. 32.  9. 47. 27.  9. 36.\n",
            " 21. 49. 14. 24. 29. 11.  0. 32. 16. 15. 49. 36. 37. 49. 25.  6. 12. 17.\n",
            "  4. 14. 27. 19. 27. 29. 40.  6.  1. 24. 45. 32. 22. 18. 30. 27.]\n",
            "[ 0. 24. 31. 45. 10. 20. 33. 43.  5. 39. 42. 13. 27. 33. 30. 36. 18. 46.\n",
            " 14. 47. 10. 32.  9. 23. 34. 27.  5. 26. 30. 26. 32.  9. 47. 27.  9. 36.\n",
            " 21. 49. 14. 24. 29. 11.  0. 32. 16. 15. 49. 36. 37. 49. 25.  6. 12. 17.\n",
            "  4. 14. 27. 19. 27. 29. 40.  6.  1. 24. 45. 32. 22. 18. 30. 27.]\n",
            "[ 0. 24. 31. 45. 10. 20. 33. 43.  5. 39. 42. 13. 27. 33. 30. 36. 18. 46.\n",
            " 14. 47. 10. 32.  9. 23. 34. 27.  5. 26. 30. 26. 32.  9. 47. 27.  9. 36.\n",
            " 21. 49. 14. 24. 29. 11.  0. 32. 16. 15. 49. 36. 37. 49. 25.  6. 12. 17.\n",
            "  4. 14. 27. 19. 27. 29. 40.  6.  1. 24. 45. 32. 22. 18. 30. 27.]\n",
            "[ 0 24 31 45 10 20 33 43  5 39 42 13 27 33 30 36 18 46 14 47 10 32  9 23\n",
            " 34 27  5 26 30 26 32  9 47 27  9 36 21 49 14 24 29 11  0 32 16 15 49 36\n",
            " 37 49 25  6 12 17  4 14 27 19 27 29 40  6  1 24 45 32 22 18 30 27]\n",
            "[ 0. 24. 31. 45. 10. 20. 33. 43.  5. 39. 42. 13. 27. 33. 30. 36. 18. 46.\n",
            " 14. 47. 10. 32.  9. 23. 34. 27.  5. 26. 30. 26. 32.  9. 47. 27.  9. 36.\n",
            " 21. 49. 14. 24. 29. 11.  0. 32. 16. 15. 49. 36. 37. 49. 25.  6. 12. 17.\n",
            "  4. 14. 27. 19. 27. 29. 40.  6.  1. 24. 45. 32. 22. 18. 30. 27.]\n"
          ]
        }
      ],
      "source": [
        "K=np.random.uniform(0,50,70)\n",
        "print(K-K%1) # Removed extra indentation (two spaces)\n",
        "print(np.floor(K))\n",
        "print(np.ceil(K)-1)\n",
        "print(K.astype(int))\n",
        "print(np.trunc(K))"
      ]
    },
    {
      "cell_type": "markdown",
      "id": "5a2e3d85",
      "metadata": {
        "id": "5a2e3d85"
      },
      "source": [
        "#### 37. Create a 5x5 matrix with row values ranging from 0 to 4 (★★☆)"
      ]
    },
    {
      "cell_type": "code",
      "execution_count": 42,
      "id": "1d974e8f",
      "metadata": {
        "id": "1d974e8f",
        "outputId": "b78653af-cc01-4443-a6ec-b6b2d2053f59",
        "colab": {
          "base_uri": "https://localhost:8080/"
        }
      },
      "outputs": [
        {
          "output_type": "stream",
          "name": "stdout",
          "text": [
            "[[0. 1. 2. 3. 4.]\n",
            " [0. 1. 2. 3. 4.]\n",
            " [0. 1. 2. 3. 4.]\n",
            " [0. 1. 2. 3. 4.]\n",
            " [0. 1. 2. 3. 4.]]\n",
            "[[0 1 2 3 4]\n",
            " [0 1 2 3 4]\n",
            " [0 1 2 3 4]\n",
            " [0 1 2 3 4]\n",
            " [0 1 2 3 4]]\n"
          ]
        }
      ],
      "source": [
        "Y=np.zeros((5,5))\n",
        "Y+=np.arange(5)\n",
        "print(Y)\n",
        "Y=np.tile(np.arange(0,5),(5,1))\n",
        "print(Y)"
      ]
    },
    {
      "cell_type": "markdown",
      "id": "9720e2d5",
      "metadata": {
        "id": "9720e2d5"
      },
      "source": [
        "#### 38. Consider a generator function that generates 10 integers and use it to build an array (★☆☆)"
      ]
    },
    {
      "cell_type": "code",
      "execution_count": 43,
      "id": "e5dd8fc9",
      "metadata": {
        "id": "e5dd8fc9",
        "outputId": "54f11f59-d362-4cdb-9b63-f39f1d28953a",
        "colab": {
          "base_uri": "https://localhost:8080/"
        }
      },
      "outputs": [
        {
          "output_type": "stream",
          "name": "stdout",
          "text": [
            "[0. 1. 2. 3. 4. 5. 6. 7. 8. 9.]\n"
          ]
        }
      ],
      "source": [
        "def generate():\n",
        "  for y in range(10):\n",
        "    yield y\n",
        "x=np.fromiter(generate(),dtype=float,count=-1)\n",
        "print(x)"
      ]
    },
    {
      "cell_type": "markdown",
      "id": "c6f2c912",
      "metadata": {
        "id": "c6f2c912"
      },
      "source": [
        "#### 39. Create a vector of size 10 with values ranging from 0 to 1, both excluded (★★☆)"
      ]
    },
    {
      "cell_type": "code",
      "execution_count": 44,
      "id": "6aaa27d3",
      "metadata": {
        "id": "6aaa27d3",
        "outputId": "c3d69f19-108d-42b3-f730-8a18d4bf081e",
        "colab": {
          "base_uri": "https://localhost:8080/"
        }
      },
      "outputs": [
        {
          "output_type": "stream",
          "name": "stdout",
          "text": [
            "[0.09090909 0.18181818 0.27272727 0.36363636 0.45454545 0.54545455\n",
            " 0.63636364 0.72727273 0.81818182 0.90909091]\n"
          ]
        }
      ],
      "source": [
        "Q=np.linspace(0,1,11,endpoint=False)[1:]\n",
        "print(Q)"
      ]
    },
    {
      "cell_type": "markdown",
      "id": "a36d6ee4",
      "metadata": {
        "id": "a36d6ee4"
      },
      "source": [
        "#### 40. Create a random vector of size 10 and sort it (★★☆)"
      ]
    },
    {
      "cell_type": "code",
      "execution_count": 45,
      "id": "e589d216",
      "metadata": {
        "id": "e589d216",
        "outputId": "71216e80-cea8-43c4-91f5-9a695b8cda6f",
        "colab": {
          "base_uri": "https://localhost:8080/"
        }
      },
      "outputs": [
        {
          "output_type": "stream",
          "name": "stdout",
          "text": [
            "[0.15309422 0.15658731 0.20080232 0.36472527 0.41127558 0.68304358\n",
            " 0.72485863 0.83249362 0.86515469 0.86747257]\n"
          ]
        }
      ],
      "source": [
        "N=np.random.random(10)\n",
        "N.sort()\n",
        "print(N)"
      ]
    },
    {
      "cell_type": "markdown",
      "id": "0fb4ad68",
      "metadata": {
        "id": "0fb4ad68"
      },
      "source": [
        "#### 41. How to sum a small array faster than np.sum? (★★☆)"
      ]
    },
    {
      "cell_type": "code",
      "execution_count": 46,
      "id": "a1ba05a0",
      "metadata": {
        "id": "a1ba05a0",
        "outputId": "db8b9ce4-4d41-4df1-a190-19636e641a56",
        "colab": {
          "base_uri": "https://localhost:8080/"
        }
      },
      "outputs": [
        {
          "output_type": "execute_result",
          "data": {
            "text/plain": [
              "26335"
            ]
          },
          "metadata": {},
          "execution_count": 46
        }
      ],
      "source": [
        "B=np.arange(230)\n",
        "np.add.reduce(B)"
      ]
    },
    {
      "cell_type": "markdown",
      "id": "024ac365",
      "metadata": {
        "id": "024ac365"
      },
      "source": [
        "#### 42. Consider two random array A and B, check if they are equal (★★☆)"
      ]
    },
    {
      "cell_type": "code",
      "execution_count": 47,
      "id": "7db3846d",
      "metadata": {
        "id": "7db3846d",
        "outputId": "ddcb71a8-23a2-42c1-f1b9-58ab4bd32d7c",
        "colab": {
          "base_uri": "https://localhost:8080/"
        }
      },
      "outputs": [
        {
          "output_type": "stream",
          "name": "stdout",
          "text": [
            "False\n",
            "False\n"
          ]
        }
      ],
      "source": [
        "A=np.random.randint(0,6,15)\n",
        "B=np.random.randint(0,6,15)\n",
        "equal=np.allclose(A,B)\n",
        "print(equal)\n",
        "equal=np.array_equal(A,B)\n",
        "print(equal)"
      ]
    },
    {
      "cell_type": "markdown",
      "id": "c68d2401",
      "metadata": {
        "id": "c68d2401"
      },
      "source": [
        "#### 43. Make an array immutable (read-only) (★★☆)"
      ]
    },
    {
      "cell_type": "code",
      "execution_count": 48,
      "id": "7828539d",
      "metadata": {
        "id": "7828539d",
        "outputId": "04017de7-e67c-46cb-f15b-1b7d0c19a280",
        "colab": {
          "base_uri": "https://localhost:8080/"
        }
      },
      "outputs": [
        {
          "output_type": "stream",
          "name": "stdout",
          "text": [
            "[1. 0. 0. 0. 0. 0. 0. 0. 0. 0.]\n"
          ]
        }
      ],
      "source": [
        "Z = np.zeros(10)\n",
        "Z[0] = 1\n",
        "print(Z)"
      ]
    },
    {
      "cell_type": "markdown",
      "id": "55df6280",
      "metadata": {
        "id": "55df6280"
      },
      "source": [
        "#### 44. Consider a random 10x2 matrix representing cartesian coordinates, convert them to polar coordinates (★★☆)"
      ]
    },
    {
      "cell_type": "code",
      "execution_count": 49,
      "id": "f1c86ea0",
      "metadata": {
        "id": "f1c86ea0",
        "outputId": "4e8dfafc-80e0-486c-efcb-9d3819f63d05",
        "colab": {
          "base_uri": "https://localhost:8080/"
        }
      },
      "outputs": [
        {
          "output_type": "stream",
          "name": "stdout",
          "text": [
            "[1.71092994 1.42082236 1.73086842 1.9231723  1.58097306 1.79767619\n",
            " 1.38671121 1.51229033 1.33688892 1.27122642]\n",
            "[0.69320608 0.95550157 0.85032395 0.77298745 0.93072218 1.01874286\n",
            " 1.09460246 1.27862979 0.8539118  1.34043531]\n"
          ]
        }
      ],
      "source": [
        "Z = np.random.random((10,2))\n",
        "X,Y = Z[:,0], Z[:,1]\n",
        "R = np.sqrt(X*2+Y*2)\n",
        "T = np.arctan2(Y,X)\n",
        "print(R)\n",
        "print(T)"
      ]
    },
    {
      "cell_type": "markdown",
      "id": "2f60f1ec",
      "metadata": {
        "id": "2f60f1ec"
      },
      "source": [
        "#### 45. Create random vector of size 10 and replace the maximum value by 0 (★★☆)"
      ]
    },
    {
      "cell_type": "code",
      "execution_count": 50,
      "id": "d9f48f1c",
      "metadata": {
        "id": "d9f48f1c",
        "outputId": "f44018bf-519e-42ab-d650-1f8600ccec9b",
        "colab": {
          "base_uri": "https://localhost:8080/"
        }
      },
      "outputs": [
        {
          "output_type": "stream",
          "name": "stdout",
          "text": [
            "[0.64435399 0.23433207 0.95079096 0.18553546 0.82593784 0.91676904\n",
            " 0.         0.59012312 0.1716289  0.88490587]\n"
          ]
        }
      ],
      "source": [
        "A=np.random.random(10)\n",
        "A[A.argmax()]=0\n",
        "print(A)"
      ]
    },
    {
      "cell_type": "markdown",
      "id": "084e8ad4",
      "metadata": {
        "id": "084e8ad4"
      },
      "source": [
        "#### 46. Create a structured array with `x` and `y` coordinates covering the [0,1]x[0,1] area (★★☆)"
      ]
    },
    {
      "cell_type": "code",
      "execution_count": 51,
      "id": "58b47c13",
      "metadata": {
        "id": "58b47c13",
        "outputId": "d31eb341-577d-414f-a601-eac962c4336a",
        "colab": {
          "base_uri": "https://localhost:8080/"
        }
      },
      "outputs": [
        {
          "output_type": "stream",
          "name": "stdout",
          "text": [
            "[[(0.        , 0.        ) (0.16666667, 0.        )\n",
            "  (0.33333333, 0.        ) (0.5       , 0.        )\n",
            "  (0.66666667, 0.        ) (0.83333333, 0.        )\n",
            "  (1.        , 0.        )]\n",
            " [(0.        , 0.16666667) (0.16666667, 0.16666667)\n",
            "  (0.33333333, 0.16666667) (0.5       , 0.16666667)\n",
            "  (0.66666667, 0.16666667) (0.83333333, 0.16666667)\n",
            "  (1.        , 0.16666667)]\n",
            " [(0.        , 0.33333333) (0.16666667, 0.33333333)\n",
            "  (0.33333333, 0.33333333) (0.5       , 0.33333333)\n",
            "  (0.66666667, 0.33333333) (0.83333333, 0.33333333)\n",
            "  (1.        , 0.33333333)]\n",
            " [(0.        , 0.5       ) (0.16666667, 0.5       )\n",
            "  (0.33333333, 0.5       ) (0.5       , 0.5       )\n",
            "  (0.66666667, 0.5       ) (0.83333333, 0.5       )\n",
            "  (1.        , 0.5       )]\n",
            " [(0.        , 0.66666667) (0.16666667, 0.66666667)\n",
            "  (0.33333333, 0.66666667) (0.5       , 0.66666667)\n",
            "  (0.66666667, 0.66666667) (0.83333333, 0.66666667)\n",
            "  (1.        , 0.66666667)]\n",
            " [(0.        , 0.83333333) (0.16666667, 0.83333333)\n",
            "  (0.33333333, 0.83333333) (0.5       , 0.83333333)\n",
            "  (0.66666667, 0.83333333) (0.83333333, 0.83333333)\n",
            "  (1.        , 0.83333333)]\n",
            " [(0.        , 1.        ) (0.16666667, 1.        )\n",
            "  (0.33333333, 1.        ) (0.5       , 1.        )\n",
            "  (0.66666667, 1.        ) (0.83333333, 1.        )\n",
            "  (1.        , 1.        )]]\n"
          ]
        }
      ],
      "source": [
        "Z = np.zeros((7,7), [('x',float),('y',float)])\n",
        "Z['x'], Z['y'] = np.meshgrid(np.linspace(0,1,7),\n",
        "                             np.linspace(0,1,7))\n",
        "print(Z)"
      ]
    },
    {
      "cell_type": "markdown",
      "id": "d7b9bc42",
      "metadata": {
        "id": "d7b9bc42"
      },
      "source": [
        "#### 47. Given two arrays, X and Y, construct the Cauchy matrix C (Cij =1/(xi - yj)) (★★☆)"
      ]
    },
    {
      "cell_type": "code",
      "execution_count": 53,
      "id": "a24824fb",
      "metadata": {
        "id": "a24824fb",
        "outputId": "40e67f34-ae5a-4fb4-d32f-ee52e07eb339",
        "colab": {
          "base_uri": "https://localhost:8080/"
        }
      },
      "outputs": [
        {
          "output_type": "stream",
          "name": "stdout",
          "text": [
            "17887483823.583435\n"
          ]
        }
      ],
      "source": [
        "A=np.arange(16)\n",
        "B=A+0.8\n",
        "C=1.0/np.subtract.outer(A,B)\n",
        "print(np.linalg.det(C))"
      ]
    },
    {
      "cell_type": "markdown",
      "id": "65ebc11b",
      "metadata": {
        "id": "65ebc11b"
      },
      "source": [
        "#### 48. Print the minimum and maximum representable value for each numpy scalar type (★★☆)"
      ]
    },
    {
      "cell_type": "code",
      "execution_count": 54,
      "id": "e45d38fb",
      "metadata": {
        "id": "e45d38fb",
        "outputId": "266c11fa-b2a7-4412-cb67-808b01d8d753",
        "colab": {
          "base_uri": "https://localhost:8080/"
        }
      },
      "outputs": [
        {
          "output_type": "stream",
          "name": "stdout",
          "text": [
            "-128\n",
            "127\n",
            "-2147483648\n",
            "2147483647\n",
            "-9223372036854775808\n",
            "9223372036854775807\n",
            "-3.4028235e+38\n",
            "3.4028235e+38\n",
            "1.1920929e-07\n",
            "-1.7976931348623157e+308\n",
            "1.7976931348623157e+308\n",
            "2.220446049250313e-16\n"
          ]
        }
      ],
      "source": [
        "import numpy as np\n",
        "for dtype in[np.int8,np.int32,np.int64]:\n",
        "  print(np.iinfo(dtype).min)\n",
        "  print(np.iinfo(dtype).max)\n",
        "for dtype in[np.float32,float64]:\n",
        "  print(np.finfo(dtype).min)\n",
        "  print(np.finfo(dtype).max)\n",
        "  print(np.finfo(dtype).eps)"
      ]
    },
    {
      "cell_type": "markdown",
      "id": "9b317a98",
      "metadata": {
        "id": "9b317a98"
      },
      "source": [
        "#### 49. How to print all the values of an array? (★★☆)"
      ]
    },
    {
      "cell_type": "code",
      "execution_count": 55,
      "id": "309cdeb9",
      "metadata": {
        "id": "309cdeb9",
        "outputId": "18c4bac5-920d-41a8-d0f2-34a9326ae97c",
        "colab": {
          "base_uri": "https://localhost:8080/"
        }
      },
      "outputs": [
        {
          "output_type": "stream",
          "name": "stdout",
          "text": [
            "[[0. 0. 0. 0. 0. 0. 0. 0. 0. 0. 0. 0. 0. 0. 0. 0. 0. 0. 0. 0. 0. 0. 0. 0.\n",
            "  0. 0. 0. 0. 0. 0.]\n",
            " [0. 0. 0. 0. 0. 0. 0. 0. 0. 0. 0. 0. 0. 0. 0. 0. 0. 0. 0. 0. 0. 0. 0. 0.\n",
            "  0. 0. 0. 0. 0. 0.]\n",
            " [0. 0. 0. 0. 0. 0. 0. 0. 0. 0. 0. 0. 0. 0. 0. 0. 0. 0. 0. 0. 0. 0. 0. 0.\n",
            "  0. 0. 0. 0. 0. 0.]\n",
            " [0. 0. 0. 0. 0. 0. 0. 0. 0. 0. 0. 0. 0. 0. 0. 0. 0. 0. 0. 0. 0. 0. 0. 0.\n",
            "  0. 0. 0. 0. 0. 0.]\n",
            " [0. 0. 0. 0. 0. 0. 0. 0. 0. 0. 0. 0. 0. 0. 0. 0. 0. 0. 0. 0. 0. 0. 0. 0.\n",
            "  0. 0. 0. 0. 0. 0.]\n",
            " [0. 0. 0. 0. 0. 0. 0. 0. 0. 0. 0. 0. 0. 0. 0. 0. 0. 0. 0. 0. 0. 0. 0. 0.\n",
            "  0. 0. 0. 0. 0. 0.]\n",
            " [0. 0. 0. 0. 0. 0. 0. 0. 0. 0. 0. 0. 0. 0. 0. 0. 0. 0. 0. 0. 0. 0. 0. 0.\n",
            "  0. 0. 0. 0. 0. 0.]\n",
            " [0. 0. 0. 0. 0. 0. 0. 0. 0. 0. 0. 0. 0. 0. 0. 0. 0. 0. 0. 0. 0. 0. 0. 0.\n",
            "  0. 0. 0. 0. 0. 0.]\n",
            " [0. 0. 0. 0. 0. 0. 0. 0. 0. 0. 0. 0. 0. 0. 0. 0. 0. 0. 0. 0. 0. 0. 0. 0.\n",
            "  0. 0. 0. 0. 0. 0.]\n",
            " [0. 0. 0. 0. 0. 0. 0. 0. 0. 0. 0. 0. 0. 0. 0. 0. 0. 0. 0. 0. 0. 0. 0. 0.\n",
            "  0. 0. 0. 0. 0. 0.]\n",
            " [0. 0. 0. 0. 0. 0. 0. 0. 0. 0. 0. 0. 0. 0. 0. 0. 0. 0. 0. 0. 0. 0. 0. 0.\n",
            "  0. 0. 0. 0. 0. 0.]\n",
            " [0. 0. 0. 0. 0. 0. 0. 0. 0. 0. 0. 0. 0. 0. 0. 0. 0. 0. 0. 0. 0. 0. 0. 0.\n",
            "  0. 0. 0. 0. 0. 0.]\n",
            " [0. 0. 0. 0. 0. 0. 0. 0. 0. 0. 0. 0. 0. 0. 0. 0. 0. 0. 0. 0. 0. 0. 0. 0.\n",
            "  0. 0. 0. 0. 0. 0.]\n",
            " [0. 0. 0. 0. 0. 0. 0. 0. 0. 0. 0. 0. 0. 0. 0. 0. 0. 0. 0. 0. 0. 0. 0. 0.\n",
            "  0. 0. 0. 0. 0. 0.]\n",
            " [0. 0. 0. 0. 0. 0. 0. 0. 0. 0. 0. 0. 0. 0. 0. 0. 0. 0. 0. 0. 0. 0. 0. 0.\n",
            "  0. 0. 0. 0. 0. 0.]\n",
            " [0. 0. 0. 0. 0. 0. 0. 0. 0. 0. 0. 0. 0. 0. 0. 0. 0. 0. 0. 0. 0. 0. 0. 0.\n",
            "  0. 0. 0. 0. 0. 0.]\n",
            " [0. 0. 0. 0. 0. 0. 0. 0. 0. 0. 0. 0. 0. 0. 0. 0. 0. 0. 0. 0. 0. 0. 0. 0.\n",
            "  0. 0. 0. 0. 0. 0.]\n",
            " [0. 0. 0. 0. 0. 0. 0. 0. 0. 0. 0. 0. 0. 0. 0. 0. 0. 0. 0. 0. 0. 0. 0. 0.\n",
            "  0. 0. 0. 0. 0. 0.]\n",
            " [0. 0. 0. 0. 0. 0. 0. 0. 0. 0. 0. 0. 0. 0. 0. 0. 0. 0. 0. 0. 0. 0. 0. 0.\n",
            "  0. 0. 0. 0. 0. 0.]\n",
            " [0. 0. 0. 0. 0. 0. 0. 0. 0. 0. 0. 0. 0. 0. 0. 0. 0. 0. 0. 0. 0. 0. 0. 0.\n",
            "  0. 0. 0. 0. 0. 0.]\n",
            " [0. 0. 0. 0. 0. 0. 0. 0. 0. 0. 0. 0. 0. 0. 0. 0. 0. 0. 0. 0. 0. 0. 0. 0.\n",
            "  0. 0. 0. 0. 0. 0.]\n",
            " [0. 0. 0. 0. 0. 0. 0. 0. 0. 0. 0. 0. 0. 0. 0. 0. 0. 0. 0. 0. 0. 0. 0. 0.\n",
            "  0. 0. 0. 0. 0. 0.]\n",
            " [0. 0. 0. 0. 0. 0. 0. 0. 0. 0. 0. 0. 0. 0. 0. 0. 0. 0. 0. 0. 0. 0. 0. 0.\n",
            "  0. 0. 0. 0. 0. 0.]\n",
            " [0. 0. 0. 0. 0. 0. 0. 0. 0. 0. 0. 0. 0. 0. 0. 0. 0. 0. 0. 0. 0. 0. 0. 0.\n",
            "  0. 0. 0. 0. 0. 0.]\n",
            " [0. 0. 0. 0. 0. 0. 0. 0. 0. 0. 0. 0. 0. 0. 0. 0. 0. 0. 0. 0. 0. 0. 0. 0.\n",
            "  0. 0. 0. 0. 0. 0.]\n",
            " [0. 0. 0. 0. 0. 0. 0. 0. 0. 0. 0. 0. 0. 0. 0. 0. 0. 0. 0. 0. 0. 0. 0. 0.\n",
            "  0. 0. 0. 0. 0. 0.]\n",
            " [0. 0. 0. 0. 0. 0. 0. 0. 0. 0. 0. 0. 0. 0. 0. 0. 0. 0. 0. 0. 0. 0. 0. 0.\n",
            "  0. 0. 0. 0. 0. 0.]\n",
            " [0. 0. 0. 0. 0. 0. 0. 0. 0. 0. 0. 0. 0. 0. 0. 0. 0. 0. 0. 0. 0. 0. 0. 0.\n",
            "  0. 0. 0. 0. 0. 0.]\n",
            " [0. 0. 0. 0. 0. 0. 0. 0. 0. 0. 0. 0. 0. 0. 0. 0. 0. 0. 0. 0. 0. 0. 0. 0.\n",
            "  0. 0. 0. 0. 0. 0.]\n",
            " [0. 0. 0. 0. 0. 0. 0. 0. 0. 0. 0. 0. 0. 0. 0. 0. 0. 0. 0. 0. 0. 0. 0. 0.\n",
            "  0. 0. 0. 0. 0. 0.]\n",
            " [0. 0. 0. 0. 0. 0. 0. 0. 0. 0. 0. 0. 0. 0. 0. 0. 0. 0. 0. 0. 0. 0. 0. 0.\n",
            "  0. 0. 0. 0. 0. 0.]\n",
            " [0. 0. 0. 0. 0. 0. 0. 0. 0. 0. 0. 0. 0. 0. 0. 0. 0. 0. 0. 0. 0. 0. 0. 0.\n",
            "  0. 0. 0. 0. 0. 0.]\n",
            " [0. 0. 0. 0. 0. 0. 0. 0. 0. 0. 0. 0. 0. 0. 0. 0. 0. 0. 0. 0. 0. 0. 0. 0.\n",
            "  0. 0. 0. 0. 0. 0.]\n",
            " [0. 0. 0. 0. 0. 0. 0. 0. 0. 0. 0. 0. 0. 0. 0. 0. 0. 0. 0. 0. 0. 0. 0. 0.\n",
            "  0. 0. 0. 0. 0. 0.]\n",
            " [0. 0. 0. 0. 0. 0. 0. 0. 0. 0. 0. 0. 0. 0. 0. 0. 0. 0. 0. 0. 0. 0. 0. 0.\n",
            "  0. 0. 0. 0. 0. 0.]\n",
            " [0. 0. 0. 0. 0. 0. 0. 0. 0. 0. 0. 0. 0. 0. 0. 0. 0. 0. 0. 0. 0. 0. 0. 0.\n",
            "  0. 0. 0. 0. 0. 0.]\n",
            " [0. 0. 0. 0. 0. 0. 0. 0. 0. 0. 0. 0. 0. 0. 0. 0. 0. 0. 0. 0. 0. 0. 0. 0.\n",
            "  0. 0. 0. 0. 0. 0.]\n",
            " [0. 0. 0. 0. 0. 0. 0. 0. 0. 0. 0. 0. 0. 0. 0. 0. 0. 0. 0. 0. 0. 0. 0. 0.\n",
            "  0. 0. 0. 0. 0. 0.]\n",
            " [0. 0. 0. 0. 0. 0. 0. 0. 0. 0. 0. 0. 0. 0. 0. 0. 0. 0. 0. 0. 0. 0. 0. 0.\n",
            "  0. 0. 0. 0. 0. 0.]\n",
            " [0. 0. 0. 0. 0. 0. 0. 0. 0. 0. 0. 0. 0. 0. 0. 0. 0. 0. 0. 0. 0. 0. 0. 0.\n",
            "  0. 0. 0. 0. 0. 0.]\n",
            " [0. 0. 0. 0. 0. 0. 0. 0. 0. 0. 0. 0. 0. 0. 0. 0. 0. 0. 0. 0. 0. 0. 0. 0.\n",
            "  0. 0. 0. 0. 0. 0.]\n",
            " [0. 0. 0. 0. 0. 0. 0. 0. 0. 0. 0. 0. 0. 0. 0. 0. 0. 0. 0. 0. 0. 0. 0. 0.\n",
            "  0. 0. 0. 0. 0. 0.]\n",
            " [0. 0. 0. 0. 0. 0. 0. 0. 0. 0. 0. 0. 0. 0. 0. 0. 0. 0. 0. 0. 0. 0. 0. 0.\n",
            "  0. 0. 0. 0. 0. 0.]\n",
            " [0. 0. 0. 0. 0. 0. 0. 0. 0. 0. 0. 0. 0. 0. 0. 0. 0. 0. 0. 0. 0. 0. 0. 0.\n",
            "  0. 0. 0. 0. 0. 0.]\n",
            " [0. 0. 0. 0. 0. 0. 0. 0. 0. 0. 0. 0. 0. 0. 0. 0. 0. 0. 0. 0. 0. 0. 0. 0.\n",
            "  0. 0. 0. 0. 0. 0.]\n",
            " [0. 0. 0. 0. 0. 0. 0. 0. 0. 0. 0. 0. 0. 0. 0. 0. 0. 0. 0. 0. 0. 0. 0. 0.\n",
            "  0. 0. 0. 0. 0. 0.]\n",
            " [0. 0. 0. 0. 0. 0. 0. 0. 0. 0. 0. 0. 0. 0. 0. 0. 0. 0. 0. 0. 0. 0. 0. 0.\n",
            "  0. 0. 0. 0. 0. 0.]\n",
            " [0. 0. 0. 0. 0. 0. 0. 0. 0. 0. 0. 0. 0. 0. 0. 0. 0. 0. 0. 0. 0. 0. 0. 0.\n",
            "  0. 0. 0. 0. 0. 0.]\n",
            " [0. 0. 0. 0. 0. 0. 0. 0. 0. 0. 0. 0. 0. 0. 0. 0. 0. 0. 0. 0. 0. 0. 0. 0.\n",
            "  0. 0. 0. 0. 0. 0.]\n",
            " [0. 0. 0. 0. 0. 0. 0. 0. 0. 0. 0. 0. 0. 0. 0. 0. 0. 0. 0. 0. 0. 0. 0. 0.\n",
            "  0. 0. 0. 0. 0. 0.]\n",
            " [0. 0. 0. 0. 0. 0. 0. 0. 0. 0. 0. 0. 0. 0. 0. 0. 0. 0. 0. 0. 0. 0. 0. 0.\n",
            "  0. 0. 0. 0. 0. 0.]\n",
            " [0. 0. 0. 0. 0. 0. 0. 0. 0. 0. 0. 0. 0. 0. 0. 0. 0. 0. 0. 0. 0. 0. 0. 0.\n",
            "  0. 0. 0. 0. 0. 0.]\n",
            " [0. 0. 0. 0. 0. 0. 0. 0. 0. 0. 0. 0. 0. 0. 0. 0. 0. 0. 0. 0. 0. 0. 0. 0.\n",
            "  0. 0. 0. 0. 0. 0.]\n",
            " [0. 0. 0. 0. 0. 0. 0. 0. 0. 0. 0. 0. 0. 0. 0. 0. 0. 0. 0. 0. 0. 0. 0. 0.\n",
            "  0. 0. 0. 0. 0. 0.]\n",
            " [0. 0. 0. 0. 0. 0. 0. 0. 0. 0. 0. 0. 0. 0. 0. 0. 0. 0. 0. 0. 0. 0. 0. 0.\n",
            "  0. 0. 0. 0. 0. 0.]\n",
            " [0. 0. 0. 0. 0. 0. 0. 0. 0. 0. 0. 0. 0. 0. 0. 0. 0. 0. 0. 0. 0. 0. 0. 0.\n",
            "  0. 0. 0. 0. 0. 0.]\n",
            " [0. 0. 0. 0. 0. 0. 0. 0. 0. 0. 0. 0. 0. 0. 0. 0. 0. 0. 0. 0. 0. 0. 0. 0.\n",
            "  0. 0. 0. 0. 0. 0.]\n",
            " [0. 0. 0. 0. 0. 0. 0. 0. 0. 0. 0. 0. 0. 0. 0. 0. 0. 0. 0. 0. 0. 0. 0. 0.\n",
            "  0. 0. 0. 0. 0. 0.]\n",
            " [0. 0. 0. 0. 0. 0. 0. 0. 0. 0. 0. 0. 0. 0. 0. 0. 0. 0. 0. 0. 0. 0. 0. 0.\n",
            "  0. 0. 0. 0. 0. 0.]\n",
            " [0. 0. 0. 0. 0. 0. 0. 0. 0. 0. 0. 0. 0. 0. 0. 0. 0. 0. 0. 0. 0. 0. 0. 0.\n",
            "  0. 0. 0. 0. 0. 0.]]\n"
          ]
        }
      ],
      "source": [
        "import numpy as np\n",
        "np.set_printoptions(threshold=float(\"inf\"))\n",
        "P=np.zeros((60,30))\n",
        "print(P)"
      ]
    },
    {
      "cell_type": "markdown",
      "id": "b580f9d0",
      "metadata": {
        "id": "b580f9d0"
      },
      "source": [
        "#### 50. How to find the closest value (to a given scalar) in a vector? (★★☆)"
      ]
    },
    {
      "cell_type": "code",
      "execution_count": 56,
      "id": "ebfb6714",
      "metadata": {
        "id": "ebfb6714",
        "outputId": "9377b289-b99b-430b-ba2d-45cd252fd336",
        "colab": {
          "base_uri": "https://localhost:8080/"
        }
      },
      "outputs": [
        {
          "output_type": "stream",
          "name": "stdout",
          "text": [
            "14\n"
          ]
        }
      ],
      "source": [
        "S=np.arange(350)\n",
        "v=np.random.uniform(0,350)\n",
        "index=(np.abs(S-v)).argmin()\n",
        "print(S[index])"
      ]
    },
    {
      "cell_type": "markdown",
      "id": "602e6252",
      "metadata": {
        "id": "602e6252"
      },
      "source": [
        "#### 51. Create a structured array representing a position (x,y) and a color (r,g,b) (★★☆)"
      ]
    },
    {
      "cell_type": "code",
      "execution_count": 57,
      "id": "cf002b3a",
      "metadata": {
        "id": "cf002b3a",
        "outputId": "55f3c340-4d69-44ec-c0ff-7edf0f362fd6",
        "colab": {
          "base_uri": "https://localhost:8080/"
        }
      },
      "outputs": [
        {
          "output_type": "stream",
          "name": "stderr",
          "text": [
            "<ipython-input-57-1257cdfb8a9a>:2: FutureWarning: Passing (type, 1) or '1type' as a synonym of type is deprecated; in a future version of numpy, it will be understood as (type, (1,)) / '(1,)type'.\n",
            "  Z = np.zeros(10, [('position', [('x', float, 1),\n"
          ]
        }
      ],
      "source": [
        "import numpy as np\n",
        "Z = np.zeros(10, [('position', [('x', float, 1),\n",
        "                                 ('y', float, 1)]),\n",
        "                  ('color',    [('r', float, 1),\n",
        "                                 ('g', float, 1),\n",
        "                                 ('b', float, 1)])])"
      ]
    },
    {
      "cell_type": "markdown",
      "id": "78bcd92f",
      "metadata": {
        "id": "78bcd92f"
      },
      "source": [
        "#### 52. Consider a random vector with shape (100,2) representing coordinates, find point by point distances (★★☆)"
      ]
    },
    {
      "cell_type": "code",
      "execution_count": 58,
      "id": "fea7f9a6",
      "metadata": {
        "id": "fea7f9a6",
        "outputId": "dbb1d821-f8a2-411f-d6de-1a39704f6a2f",
        "colab": {
          "base_uri": "https://localhost:8080/"
        }
      },
      "outputs": [
        {
          "output_type": "stream",
          "name": "stdout",
          "text": [
            "[[0.         0.58297572 0.11415252 0.43119016 0.38150106 0.37710991\n",
            "  0.4735012  0.43061648 0.73160857 0.43409756]\n",
            " [0.58297572 0.         0.51472531 0.24552635 0.64998651 0.62118346\n",
            "  0.28509724 0.49899895 0.38713532 0.79757755]\n",
            " [0.11415252 0.51472531 0.         0.40820765 0.46384092 0.28238229\n",
            "  0.4627347  0.47362862 0.62325155 0.37781609]\n",
            " [0.43119016 0.24552635 0.40820765 0.         0.40663946 0.61815564\n",
            "  0.06842896 0.254987   0.59157849 0.76574715]\n",
            " [0.38150106 0.64998651 0.46384092 0.40663946 0.         0.74618369\n",
            "  0.38932624 0.18389499 0.95109608 0.81506126]\n",
            " [0.37710991 0.62118346 0.28238229 0.61815564 0.74618369 0.\n",
            "  0.68345697 0.74373937 0.53977682 0.18378274]\n",
            " [0.4735012  0.28509724 0.4627347  0.06842896 0.38932624 0.68345697\n",
            "  0.         0.21962017 0.6490503  0.82707704]\n",
            " [0.43061648 0.49899895 0.47362862 0.254987   0.18389499 0.74373937\n",
            "  0.21962017 0.         0.83836761 0.85011524]\n",
            " [0.73160857 0.38713532 0.62325155 0.59157849 0.95109608 0.53977682\n",
            "  0.6490503  0.83836761 0.         0.71555707]\n",
            " [0.43409756 0.79757755 0.37781609 0.76574715 0.81506126 0.18378274\n",
            "  0.82707704 0.85011524 0.71555707 0.        ]]\n"
          ]
        }
      ],
      "source": [
        "import numpy as np\n",
        "Z=np.random.random((10,2))\n",
        "X,Y=np.atleast_2d(Z[:,0],Z[:,1])\n",
        "D=np.sqrt((X-X.T)**2+(Y-Y.T)**2)\n",
        "print(D)"
      ]
    },
    {
      "cell_type": "markdown",
      "id": "343c5a85",
      "metadata": {
        "id": "343c5a85"
      },
      "source": [
        "#### 53. How to convert a float (32 bits) array into an integer (32 bits) in place?"
      ]
    },
    {
      "cell_type": "code",
      "execution_count": 59,
      "id": "fc1b687b",
      "metadata": {
        "id": "fc1b687b",
        "outputId": "3fa91ba4-6252-435c-eeea-c7c5533fa5c6",
        "colab": {
          "base_uri": "https://localhost:8080/"
        }
      },
      "outputs": [
        {
          "output_type": "stream",
          "name": "stdout",
          "text": [
            "[79 90 51 70 36  3 88 49 16 77]\n"
          ]
        }
      ],
      "source": [
        "z=(np.random.rand(10)*100).astype(np.float32)\n",
        "y=z.view(np.int32)\n",
        "y[:]=z\n",
        "print(y)"
      ]
    },
    {
      "cell_type": "markdown",
      "id": "a69e1ace",
      "metadata": {
        "id": "a69e1ace"
      },
      "source": [
        "#### 54. How to read the following file? (★★☆)\n",
        "```\n",
        "1, 2, 3, 4, 5\n",
        "6,  ,  , 7, 8\n",
        " ,  , 9,10,11\n",
        "```"
      ]
    },
    {
      "cell_type": "code",
      "execution_count": 60,
      "id": "1c7957d4",
      "metadata": {
        "id": "1c7957d4",
        "outputId": "d9ac076f-5353-49ea-9c80-11651fd704b2",
        "colab": {
          "base_uri": "https://localhost:8080/"
        }
      },
      "outputs": [
        {
          "output_type": "stream",
          "name": "stdout",
          "text": [
            "[[ 1  2  3  4  5]\n",
            " [ 6 -1 -1  7  8]\n",
            " [-1 -1  9 10 11]]\n"
          ]
        }
      ],
      "source": [
        "from io import StringIO\n",
        "import numpy as np\n",
        "\n",
        "s = StringIO('''1, 2, 3, 4, 5\n",
        "\n",
        "                6,  ,  , 7, 8\n",
        "\n",
        "                 ,  , 9,10,11\n",
        "''')\n",
        "Z = np.genfromtxt(s, delimiter=\",\", dtype=int)\n",
        "print(Z)"
      ]
    },
    {
      "cell_type": "markdown",
      "id": "c23bd80d",
      "metadata": {
        "id": "c23bd80d"
      },
      "source": [
        "#### 55. What is the equivalent of enumerate for numpy arrays? (★★☆)"
      ]
    },
    {
      "cell_type": "code",
      "execution_count": 61,
      "id": "d95d9578",
      "metadata": {
        "id": "d95d9578",
        "outputId": "dbb5d929-d72a-4bc1-d824-1b1b0f6e8437",
        "colab": {
          "base_uri": "https://localhost:8080/"
        }
      },
      "outputs": [
        {
          "output_type": "stream",
          "name": "stdout",
          "text": [
            "(0, 0) 0\n",
            "(0, 1) 1\n",
            "(0, 2) 2\n",
            "(1, 0) 3\n",
            "(1, 1) 4\n",
            "(1, 2) 5\n",
            "(2, 0) 6\n",
            "(2, 1) 7\n",
            "(2, 2) 8\n",
            "(0, 0) 0\n",
            "(0, 1) 1\n",
            "(0, 2) 2\n",
            "(1, 0) 3\n",
            "(1, 1) 4\n",
            "(1, 2) 5\n",
            "(2, 0) 6\n",
            "(2, 1) 7\n",
            "(2, 2) 8\n"
          ]
        }
      ],
      "source": [
        "A=np.arange(9).reshape(3,3)\n",
        "for index,value in np.ndenumerate(A):\n",
        "  print(index,value)\n",
        "for index in np.ndindex(A.shape):\n",
        "  print(index,A[index])"
      ]
    },
    {
      "cell_type": "markdown",
      "id": "2153a5ec",
      "metadata": {
        "id": "2153a5ec"
      },
      "source": [
        "#### 56. Generate a generic 2D Gaussian-like array (★★☆)"
      ]
    },
    {
      "cell_type": "code",
      "execution_count": 62,
      "id": "61122d1e",
      "metadata": {
        "id": "61122d1e",
        "outputId": "4231bd1a-891e-4fc5-8adb-8311d1586bb2",
        "colab": {
          "base_uri": "https://localhost:8080/"
        }
      },
      "outputs": [
        {
          "output_type": "stream",
          "name": "stdout",
          "text": [
            "[[0.36787944 0.44822088 0.51979489 0.57375342 0.60279818 0.60279818\n",
            "  0.57375342 0.51979489 0.44822088 0.36787944]\n",
            " [0.44822088 0.54610814 0.63331324 0.69905581 0.73444367 0.73444367\n",
            "  0.69905581 0.63331324 0.54610814 0.44822088]\n",
            " [0.51979489 0.63331324 0.73444367 0.81068432 0.85172308 0.85172308\n",
            "  0.81068432 0.73444367 0.63331324 0.51979489]\n",
            " [0.57375342 0.69905581 0.81068432 0.89483932 0.9401382  0.9401382\n",
            "  0.89483932 0.81068432 0.69905581 0.57375342]\n",
            " [0.60279818 0.73444367 0.85172308 0.9401382  0.98773022 0.98773022\n",
            "  0.9401382  0.85172308 0.73444367 0.60279818]\n",
            " [0.60279818 0.73444367 0.85172308 0.9401382  0.98773022 0.98773022\n",
            "  0.9401382  0.85172308 0.73444367 0.60279818]\n",
            " [0.57375342 0.69905581 0.81068432 0.89483932 0.9401382  0.9401382\n",
            "  0.89483932 0.81068432 0.69905581 0.57375342]\n",
            " [0.51979489 0.63331324 0.73444367 0.81068432 0.85172308 0.85172308\n",
            "  0.81068432 0.73444367 0.63331324 0.51979489]\n",
            " [0.44822088 0.54610814 0.63331324 0.69905581 0.73444367 0.73444367\n",
            "  0.69905581 0.63331324 0.54610814 0.44822088]\n",
            " [0.36787944 0.44822088 0.51979489 0.57375342 0.60279818 0.60279818\n",
            "  0.57375342 0.51979489 0.44822088 0.36787944]]\n"
          ]
        }
      ],
      "source": [
        "x,y=np.meshgrid(np.linspace(-1,1,10),np.linspace(-1,1,10))\n",
        "z=np.sqrt(x*x+y*y)\n",
        "sigma,mu=1.0,0.0\n",
        "g=np.exp(-((z-mu)**2/(2.0*sigma**2)))\n",
        "print(g)"
      ]
    },
    {
      "cell_type": "markdown",
      "id": "2e76d589",
      "metadata": {
        "id": "2e76d589"
      },
      "source": [
        "#### 57. How to randomly place p elements in a 2D array? (★★☆)"
      ]
    },
    {
      "cell_type": "code",
      "execution_count": 63,
      "id": "0c2e4fcc",
      "metadata": {
        "id": "0c2e4fcc",
        "outputId": "11b068ec-5c65-4b58-f435-96089a466463",
        "colab": {
          "base_uri": "https://localhost:8080/"
        }
      },
      "outputs": [
        {
          "output_type": "stream",
          "name": "stdout",
          "text": [
            "[[0. 0. 0. 0. 0. 0. 0. 0. 0. 0. 0. 0. 0. 0. 0. 0. 0. 1. 0. 0.]\n",
            " [0. 0. 0. 0. 0. 0. 0. 0. 0. 0. 0. 0. 0. 0. 0. 0. 0. 0. 0. 0.]\n",
            " [0. 0. 0. 0. 0. 0. 0. 0. 0. 0. 0. 0. 0. 0. 0. 0. 0. 0. 0. 0.]\n",
            " [0. 0. 0. 0. 0. 0. 0. 0. 0. 0. 0. 0. 0. 0. 0. 0. 0. 0. 0. 0.]\n",
            " [0. 0. 0. 0. 0. 0. 0. 0. 0. 0. 0. 0. 0. 0. 0. 0. 0. 0. 0. 0.]\n",
            " [0. 0. 0. 0. 0. 0. 0. 0. 0. 0. 0. 0. 0. 0. 0. 0. 0. 0. 0. 0.]\n",
            " [0. 0. 0. 0. 0. 0. 0. 0. 0. 0. 0. 0. 0. 0. 0. 0. 0. 0. 0. 0.]\n",
            " [0. 0. 0. 0. 0. 1. 0. 0. 0. 0. 0. 0. 0. 0. 0. 0. 0. 0. 0. 0.]\n",
            " [0. 0. 0. 0. 0. 0. 0. 0. 0. 0. 0. 0. 0. 0. 0. 0. 0. 0. 0. 0.]\n",
            " [0. 0. 0. 0. 0. 0. 0. 0. 0. 0. 0. 0. 1. 0. 0. 0. 0. 0. 0. 0.]\n",
            " [0. 0. 0. 0. 0. 0. 0. 0. 0. 0. 0. 0. 0. 0. 0. 0. 0. 0. 0. 0.]\n",
            " [0. 0. 0. 0. 0. 0. 0. 0. 0. 0. 0. 0. 0. 0. 0. 0. 0. 0. 0. 0.]\n",
            " [0. 0. 0. 0. 0. 0. 0. 0. 0. 0. 0. 0. 0. 0. 0. 0. 0. 0. 0. 0.]\n",
            " [0. 0. 0. 0. 0. 0. 0. 0. 0. 0. 0. 0. 0. 0. 0. 0. 0. 0. 0. 1.]\n",
            " [0. 0. 0. 0. 0. 0. 0. 0. 0. 0. 0. 0. 0. 0. 0. 0. 0. 0. 0. 0.]\n",
            " [0. 0. 0. 0. 0. 0. 0. 0. 0. 0. 0. 0. 0. 0. 0. 0. 0. 0. 0. 0.]\n",
            " [0. 1. 0. 0. 0. 0. 0. 0. 0. 0. 0. 0. 0. 0. 0. 0. 0. 0. 0. 0.]\n",
            " [0. 0. 0. 0. 0. 0. 0. 0. 0. 0. 0. 0. 0. 0. 0. 0. 0. 0. 0. 0.]\n",
            " [0. 0. 0. 0. 0. 0. 0. 0. 0. 0. 0. 0. 0. 0. 0. 0. 0. 0. 0. 0.]\n",
            " [0. 0. 0. 0. 0. 0. 0. 0. 0. 0. 0. 0. 0. 0. 0. 0. 0. 0. 0. 0.]]\n"
          ]
        }
      ],
      "source": [
        "n=20\n",
        "p=5\n",
        "z=np.zeros((n,n))\n",
        "np.put(z,np.random.choice(range(n*n),p,replace=False),1)\n",
        "print(z)"
      ]
    },
    {
      "cell_type": "markdown",
      "id": "8b3933eb",
      "metadata": {
        "id": "8b3933eb"
      },
      "source": [
        "#### 58. Subtract the mean of each row of a matrix (★★☆)"
      ]
    },
    {
      "cell_type": "code",
      "execution_count": 64,
      "id": "a306c9ef",
      "metadata": {
        "id": "a306c9ef",
        "outputId": "cbec4d91-7118-4990-87d6-f927a18f38bb",
        "colab": {
          "base_uri": "https://localhost:8080/"
        }
      },
      "outputs": [
        {
          "output_type": "stream",
          "name": "stdout",
          "text": [
            "[[-0.02448529  0.18067421 -0.13469125  0.33766371  0.25740276 -0.02551106\n",
            "  -0.50679285 -0.31188425 -0.18940526  0.41702929]\n",
            " [-0.4826597   0.36770631  0.36318119 -0.30216535  0.18925295  0.34196209\n",
            "  -0.38831671 -0.14050517  0.06976497 -0.01822059]\n",
            " [ 0.38143759 -0.40868242 -0.29433813  0.07517772  0.39272243 -0.20993665\n",
            "  -0.01231895  0.1558552   0.02224156 -0.10215836]\n",
            " [ 0.54043546  0.04097927 -0.1794706   0.05555082 -0.21115176 -0.10491805\n",
            "  -0.20279464 -0.35701605  0.08507087  0.33331468]\n",
            " [ 0.14876753 -0.54378772  0.11979984  0.35411972  0.37872695  0.08387418\n",
            "   0.27535278 -0.35641017 -0.06393991 -0.39650319]]\n",
            "[[-0.02448529  0.18067421 -0.13469125  0.33766371  0.25740276 -0.02551106\n",
            "  -0.50679285 -0.31188425 -0.18940526  0.41702929]\n",
            " [-0.4826597   0.36770631  0.36318119 -0.30216535  0.18925295  0.34196209\n",
            "  -0.38831671 -0.14050517  0.06976497 -0.01822059]\n",
            " [ 0.38143759 -0.40868242 -0.29433813  0.07517772  0.39272243 -0.20993665\n",
            "  -0.01231895  0.1558552   0.02224156 -0.10215836]\n",
            " [ 0.54043546  0.04097927 -0.1794706   0.05555082 -0.21115176 -0.10491805\n",
            "  -0.20279464 -0.35701605  0.08507087  0.33331468]\n",
            " [ 0.14876753 -0.54378772  0.11979984  0.35411972  0.37872695  0.08387418\n",
            "   0.27535278 -0.35641017 -0.06393991 -0.39650319]]\n"
          ]
        }
      ],
      "source": [
        "x=np.random.rand(5,10)\n",
        "y=x-x.mean(axis=1,keepdims=True)\n",
        "print(y)\n",
        "y=x-x.mean(axis=1).reshape(-1,1)\n",
        "print(y)"
      ]
    },
    {
      "cell_type": "markdown",
      "id": "ea8807c0",
      "metadata": {
        "id": "ea8807c0"
      },
      "source": [
        "#### 59. How to sort an array by the nth column? (★★☆)"
      ]
    },
    {
      "cell_type": "code",
      "execution_count": 65,
      "id": "cc89a699",
      "metadata": {
        "id": "cc89a699",
        "outputId": "d4e312c3-15fd-412e-d87d-f946aaf26f5d",
        "colab": {
          "base_uri": "https://localhost:8080/"
        }
      },
      "outputs": [
        {
          "output_type": "stream",
          "name": "stdout",
          "text": [
            "[[ 7 14 12 12]\n",
            " [18  2 16  3]\n",
            " [ 5  3 10  3]\n",
            " [16 12  2  2]]\n",
            "[[18  2 16  3]\n",
            " [ 5  3 10  3]\n",
            " [16 12  2  2]\n",
            " [ 7 14 12 12]]\n"
          ]
        }
      ],
      "source": [
        "z=np.random.randint(0,20,(4,4))\n",
        "print(z)\n",
        "print(z[z[:,1].argsort()])"
      ]
    },
    {
      "cell_type": "markdown",
      "id": "00fa00a1",
      "metadata": {
        "id": "00fa00a1"
      },
      "source": [
        "#### 60. How to tell if a given 2D array has null columns? (★★☆)"
      ]
    },
    {
      "cell_type": "code",
      "execution_count": 66,
      "id": "3436e165",
      "metadata": {
        "id": "3436e165",
        "outputId": "cfcfa232-e1ab-45f9-c2c9-4433985f1150",
        "colab": {
          "base_uri": "https://localhost:8080/"
        }
      },
      "outputs": [
        {
          "output_type": "stream",
          "name": "stdout",
          "text": [
            "False\n",
            "[[False False  True]\n",
            " [False False  True]\n",
            " [False False  True]]\n",
            "[False False  True]\n"
          ]
        }
      ],
      "source": [
        "x=np.random.randint(0,3,(3,10))\n",
        "print((~x.any(axis=0)).any())\n",
        "x=np.array([[0,1,np.nan],[1,2,np.nan],[4,5,np.nan]])\n",
        "print(np.isnan(x))\n",
        "print(np.isnan(x).all(axis=0))"
      ]
    },
    {
      "cell_type": "markdown",
      "id": "5a65c7a2",
      "metadata": {
        "id": "5a65c7a2"
      },
      "source": [
        "#### 61. Find the nearest value from a given value in an array (★★☆)"
      ]
    },
    {
      "cell_type": "code",
      "execution_count": 67,
      "id": "73f149d6",
      "metadata": {
        "id": "73f149d6",
        "outputId": "82624201-9a54-46dd-af92-dca362f690d1",
        "colab": {
          "base_uri": "https://localhost:8080/"
        }
      },
      "outputs": [
        {
          "output_type": "stream",
          "name": "stdout",
          "text": [
            "0.5210584784755921\n"
          ]
        }
      ],
      "source": [
        "import numpy as np\n",
        "Z=np.random.uniform(0,1,20)\n",
        "z=0.5\n",
        "m=Z.flat[np.abs(Z-z).argmin()]\n",
        "print(m)"
      ]
    },
    {
      "cell_type": "markdown",
      "id": "dd83e8af",
      "metadata": {
        "id": "dd83e8af"
      },
      "source": [
        "#### 62. Considering two arrays with shape (1,3) and (3,1), how to compute their sum using an iterator? (★★☆)"
      ]
    },
    {
      "cell_type": "code",
      "execution_count": 68,
      "id": "29a709a1",
      "metadata": {
        "id": "29a709a1",
        "outputId": "bfd66137-7a0e-4c52-fd4f-24a9223dc36b",
        "colab": {
          "base_uri": "https://localhost:8080/"
        }
      },
      "outputs": [
        {
          "output_type": "stream",
          "name": "stdout",
          "text": [
            "[[0 1 2]\n",
            " [1 2 3]\n",
            " [2 3 4]]\n"
          ]
        }
      ],
      "source": [
        "A=np.arange(3).reshape(3,1)\n",
        "B=np.arange(3).reshape(1,3)\n",
        "it=np.nditer([A,B,None])\n",
        "for x,y,z in it:z[...]=x+y\n",
        "print(it.operands[2])"
      ]
    },
    {
      "cell_type": "markdown",
      "id": "6c042efa",
      "metadata": {
        "id": "6c042efa"
      },
      "source": [
        "#### 63. Create an array class that has a name attribute (★★☆)"
      ]
    },
    {
      "cell_type": "code",
      "execution_count": 69,
      "id": "45b3d2e0",
      "metadata": {
        "id": "45b3d2e0",
        "outputId": "fd30eb57-32fe-4767-ac3d-a7d5e033fdae",
        "colab": {
          "base_uri": "https://localhost:8080/"
        }
      },
      "outputs": [
        {
          "output_type": "stream",
          "name": "stdout",
          "text": [
            "range_10\n"
          ]
        }
      ],
      "source": [
        "class NamedArray(np.ndarray):\n",
        "  def __new__(cls,array,name=\"no name\"):\n",
        "    obj=np.asarray(array).view(cls)\n",
        "    obj.name=name\n",
        "    return obj\n",
        "  def __array_finalize__(self,obj):\n",
        "    if obj is None: return\n",
        "    self.info=getattr(obj,'name',\"no name\")\n",
        "Z=NamedArray(np.arange(10),'range_10')\n",
        "print(Z.name)"
      ]
    },
    {
      "cell_type": "markdown",
      "id": "0a075c3d",
      "metadata": {
        "id": "0a075c3d"
      },
      "source": [
        "#### 64. Consider a given vector, how to add 1 to each element indexed by a second vector (be careful with repeated indices)? (★★★)"
      ]
    },
    {
      "cell_type": "code",
      "execution_count": 70,
      "id": "36c50470",
      "metadata": {
        "id": "36c50470",
        "outputId": "78018d81-d947-40f5-8a84-38dfc3ac74fb",
        "colab": {
          "base_uri": "https://localhost:8080/"
        }
      },
      "outputs": [
        {
          "output_type": "stream",
          "name": "stdout",
          "text": [
            "[2. 5. 1. 2. 3. 3. 3. 3. 3. 4. 2. 1. 6. 2. 1. 2. 1. 1. 2. 3.]\n",
            "[ 3.  9.  1.  3.  5.  5.  5.  5.  5.  7.  3.  1. 11.  3.  1.  3.  1.  1.\n",
            "  3.  5.]\n"
          ]
        }
      ],
      "source": [
        "Z=np.ones(20)\n",
        "I=np.random.randint(0,len(Z),30)\n",
        "Z+=np.bincount(I,minlength=len(Z))\n",
        "print(Z)\n",
        "np.add.at(Z,I,1)\n",
        "print(Z)"
      ]
    },
    {
      "cell_type": "markdown",
      "id": "0fb2f0c5",
      "metadata": {
        "id": "0fb2f0c5"
      },
      "source": [
        "#### 65. How to accumulate elements of a vector (X) to an array (F) based on an index list (I)? (★★★)"
      ]
    },
    {
      "cell_type": "code",
      "execution_count": 71,
      "id": "58aa5f82",
      "metadata": {
        "id": "58aa5f82",
        "outputId": "543aa8f8-0b5a-40a0-d5ff-124c5f90f443",
        "colab": {
          "base_uri": "https://localhost:8080/"
        }
      },
      "outputs": [
        {
          "output_type": "stream",
          "name": "stdout",
          "text": [
            "[0. 1. 3. 9. 6. 7. 8.]\n"
          ]
        }
      ],
      "source": [
        "X=[6,5,4,3,2,1]\n",
        "Y=[8,7,6,9,3,1]\n",
        "Z=np.bincount(X,Y)\n",
        "print(Z)"
      ]
    },
    {
      "cell_type": "markdown",
      "id": "d89dc506",
      "metadata": {
        "id": "d89dc506"
      },
      "source": [
        "#### 66. Considering a (w,h,3) image of (dtype=ubyte), compute the number of unique colors (★★☆)"
      ]
    },
    {
      "cell_type": "code",
      "execution_count": 72,
      "id": "8fb43a49",
      "metadata": {
        "id": "8fb43a49",
        "outputId": "f015b26a-14fb-4eee-ab06-b5ca095ad61d",
        "colab": {
          "base_uri": "https://localhost:8080/"
        }
      },
      "outputs": [
        {
          "output_type": "stream",
          "name": "stdout",
          "text": [
            "64\n",
            "64\n"
          ]
        }
      ],
      "source": [
        "w, h = 256, 256\n",
        "I = np.random.randint(0, 4, (h, w, 3)).astype(np.ubyte)\n",
        "colors = np.unique(I.reshape(-1, 3), axis=0)\n",
        "n = len(colors)\n",
        "print(n)\n",
        "\n",
        "w, h = 256, 256\n",
        "I = np.random.randint(0,4,(h,w,3), dtype=np.uint8)\n",
        "\n",
        "I24 = np.dot(I.astype(np.uint32),[1,256,65536])\n",
        "\n",
        "n = len(np.unique(I24))\n",
        "print(n)"
      ]
    },
    {
      "cell_type": "markdown",
      "id": "535a5d81",
      "metadata": {
        "id": "535a5d81"
      },
      "source": [
        "#### 67. Considering a four dimensions array, how to get sum over the last two axis at once? (★★★)"
      ]
    },
    {
      "cell_type": "code",
      "execution_count": 73,
      "id": "f954ab9d",
      "metadata": {
        "id": "f954ab9d",
        "outputId": "25a6cf73-19e7-45d4-876c-142a1aa7e4d8",
        "colab": {
          "base_uri": "https://localhost:8080/"
        }
      },
      "outputs": [
        {
          "output_type": "stream",
          "name": "stdout",
          "text": [
            "[[48 56 62 53]\n",
            " [41 63 52 50]\n",
            " [45 47 63 50]]\n",
            "[[48 56 62 53]\n",
            " [41 63 52 50]\n",
            " [45 47 63 50]]\n"
          ]
        }
      ],
      "source": [
        "A = np.random.randint(0,10,(3,4,3,4))\n",
        "sum = A.sum(axis=(-2,-1))\n",
        "print(sum)\n",
        "sum = A.reshape(A.shape[:-2] + (-1,)).sum(axis=-1)\n",
        "print(sum)"
      ]
    },
    {
      "cell_type": "markdown",
      "id": "eee66d3c",
      "metadata": {
        "id": "eee66d3c"
      },
      "source": [
        "#### 68. Considering a one-dimensional vector D, how to compute means of subsets of D using a vector S of same size describing subset  indices? (★★★)"
      ]
    },
    {
      "cell_type": "code",
      "execution_count": 74,
      "id": "8929773a",
      "metadata": {
        "id": "8929773a",
        "outputId": "7bc44fe5-4b77-4556-94a5-2e955d475ef8",
        "colab": {
          "base_uri": "https://localhost:8080/"
        }
      },
      "outputs": [
        {
          "output_type": "stream",
          "name": "stdout",
          "text": [
            "[0.44782109 0.63182559 0.49219851 0.48239061 0.38457521 0.44421833\n",
            " 0.49885928 0.60547789 0.37341612 0.5448472 ]\n",
            "0    0.447821\n",
            "1    0.631826\n",
            "2    0.492199\n",
            "3    0.482391\n",
            "4    0.384575\n",
            "5    0.444218\n",
            "6    0.498859\n",
            "7    0.605478\n",
            "8    0.373416\n",
            "9    0.544847\n",
            "dtype: float64\n"
          ]
        }
      ],
      "source": [
        "D = np.random.uniform(0,1,100)\n",
        "S = np.random.randint(0,10,100)\n",
        "D_sums = np.bincount(S, weights=D)\n",
        "D_counts = np.bincount(S)\n",
        "D_means = D_sums / D_counts\n",
        "print(D_means)\n",
        "import pandas as pd\n",
        "print(pd.Series(D).groupby(S).mean())"
      ]
    },
    {
      "cell_type": "markdown",
      "id": "f90d4c40",
      "metadata": {
        "id": "f90d4c40"
      },
      "source": [
        "#### 69. How to get the diagonal of a dot product? (★★★)"
      ]
    },
    {
      "cell_type": "code",
      "execution_count": 75,
      "id": "b47d392d",
      "metadata": {
        "id": "b47d392d",
        "outputId": "082f6ec4-8e26-4a29-da7d-71bc35b49aef",
        "colab": {
          "base_uri": "https://localhost:8080/"
        }
      },
      "outputs": [
        {
          "output_type": "execute_result",
          "data": {
            "text/plain": [
              "array([0.8941765 , 0.45566872, 0.71483729, 1.35439245, 1.46097996])"
            ]
          },
          "metadata": {},
          "execution_count": 75
        }
      ],
      "source": [
        "A = np.random.uniform(0,1,(5,5))\n",
        "B = np.random.uniform(0,1,(5,5))\n",
        "\n",
        "np.diag(np.dot(A, B))\n",
        "\n",
        "np.sum(A * B.T, axis=1)\n",
        "\n",
        "np.einsum(\"ij,ji->i\", A, B)"
      ]
    },
    {
      "cell_type": "markdown",
      "id": "a8a97e7d",
      "metadata": {
        "id": "a8a97e7d"
      },
      "source": [
        "#### 70. Consider the vector [1, 2, 3, 4, 5], how to build a new vector with 3 consecutive zeros interleaved between each value? (★★★)"
      ]
    },
    {
      "cell_type": "code",
      "execution_count": 76,
      "id": "ee6c6c37",
      "metadata": {
        "id": "ee6c6c37",
        "outputId": "4544e53f-250f-4864-c7cc-37bf53f82a77",
        "colab": {
          "base_uri": "https://localhost:8080/"
        }
      },
      "outputs": [
        {
          "output_type": "stream",
          "name": "stdout",
          "text": [
            "[1. 0. 0. 0. 2. 0. 0. 0. 3. 0. 0. 0. 4. 0. 0. 0. 5.]\n"
          ]
        }
      ],
      "source": [
        "Z = np.array([1,2,3,4,5])\n",
        "nz = 3\n",
        "Z0 = np.zeros(len(Z) + (len(Z)-1)*(nz))\n",
        "Z0[::nz+1] = Z\n",
        "print(Z0)"
      ]
    },
    {
      "cell_type": "markdown",
      "id": "d6a30d60",
      "metadata": {
        "id": "d6a30d60"
      },
      "source": [
        "#### 71. Consider an array of dimension (5,5,3), how to mulitply it by an array with dimensions (5,5)? (★★★)"
      ]
    },
    {
      "cell_type": "code",
      "execution_count": 77,
      "id": "e9703f2e",
      "metadata": {
        "id": "e9703f2e",
        "outputId": "b6ca0d30-1f87-4d67-997e-2d1794aaa098",
        "colab": {
          "base_uri": "https://localhost:8080/"
        }
      },
      "outputs": [
        {
          "output_type": "stream",
          "name": "stdout",
          "text": [
            "[[[2. 2. 2.]\n",
            "  [2. 2. 2.]\n",
            "  [2. 2. 2.]\n",
            "  [2. 2. 2.]\n",
            "  [2. 2. 2.]]\n",
            "\n",
            " [[2. 2. 2.]\n",
            "  [2. 2. 2.]\n",
            "  [2. 2. 2.]\n",
            "  [2. 2. 2.]\n",
            "  [2. 2. 2.]]\n",
            "\n",
            " [[2. 2. 2.]\n",
            "  [2. 2. 2.]\n",
            "  [2. 2. 2.]\n",
            "  [2. 2. 2.]\n",
            "  [2. 2. 2.]]\n",
            "\n",
            " [[2. 2. 2.]\n",
            "  [2. 2. 2.]\n",
            "  [2. 2. 2.]\n",
            "  [2. 2. 2.]\n",
            "  [2. 2. 2.]]\n",
            "\n",
            " [[2. 2. 2.]\n",
            "  [2. 2. 2.]\n",
            "  [2. 2. 2.]\n",
            "  [2. 2. 2.]\n",
            "  [2. 2. 2.]]]\n"
          ]
        }
      ],
      "source": [
        "A = np.ones((5,5,3))\n",
        "B = 2*np.ones((5,5))\n",
        "print(A * B[:,:,None])"
      ]
    },
    {
      "cell_type": "markdown",
      "id": "bac359a9",
      "metadata": {
        "id": "bac359a9"
      },
      "source": [
        "#### 72. How to swap two rows of an array? (★★★)"
      ]
    },
    {
      "cell_type": "code",
      "execution_count": 78,
      "id": "f1b432b1",
      "metadata": {
        "id": "f1b432b1",
        "outputId": "fd3fa548-c207-4356-e209-c1660e4a742a",
        "colab": {
          "base_uri": "https://localhost:8080/"
        }
      },
      "outputs": [
        {
          "output_type": "stream",
          "name": "stdout",
          "text": [
            "[[ 5  6  7  8  9]\n",
            " [ 0  1  2  3  4]\n",
            " [10 11 12 13 14]\n",
            " [15 16 17 18 19]\n",
            " [20 21 22 23 24]]\n"
          ]
        }
      ],
      "source": [
        "A = np.arange(25).reshape(5,5)\n",
        "A[[0,1]] = A[[1,0]]\n",
        "print(A)"
      ]
    },
    {
      "cell_type": "markdown",
      "id": "620c9f83",
      "metadata": {
        "id": "620c9f83"
      },
      "source": [
        "#### 73. Consider a set of 10 triplets describing 10 triangles (with shared vertices), find the set of unique line segments composing all the  triangles (★★★)"
      ]
    },
    {
      "cell_type": "code",
      "execution_count": 79,
      "id": "4e595ffc",
      "metadata": {
        "id": "4e595ffc",
        "outputId": "7f6ed37e-fcaf-4a39-ea1a-32b916880b73",
        "colab": {
          "base_uri": "https://localhost:8080/"
        }
      },
      "outputs": [
        {
          "output_type": "stream",
          "name": "stdout",
          "text": [
            "[( 0, 28) ( 0, 35) ( 1, 65) ( 1, 75) ( 3, 82) ( 3, 86) ( 5,  7) ( 5, 68)\n",
            " ( 7, 68) ( 9, 67) ( 9, 81) (18, 24) (18, 88) (24, 42) (24, 81) (24, 88)\n",
            " (28, 35) (42, 81) (61, 65) (61, 97) (63, 88) (63, 89) (65, 75) (65, 97)\n",
            " (66, 74) (67, 81) (74, 74) (82, 86) (88, 89)]\n"
          ]
        }
      ],
      "source": [
        "faces = np.random.randint(0,100,(10,3))\n",
        "F = np.roll(faces.repeat(2,axis=1),-1,axis=1)\n",
        "F = F.reshape(len(F)*3,2)\n",
        "F = np.sort(F,axis=1)\n",
        "G = F.view( dtype=[('p0',F.dtype),('p1',F.dtype)] )\n",
        "G = np.unique(G)\n",
        "print(G)"
      ]
    },
    {
      "cell_type": "markdown",
      "id": "a76c55a2",
      "metadata": {
        "id": "a76c55a2"
      },
      "source": [
        "#### 74. Given a sorted array C that corresponds to a bincount, how to produce an array A such that np.bincount(A) == C? (★★★)"
      ]
    },
    {
      "cell_type": "code",
      "execution_count": 80,
      "id": "2d2ae65a",
      "metadata": {
        "id": "2d2ae65a",
        "outputId": "f14eb26c-644e-4e95-b608-0ac1f1f5d14e",
        "colab": {
          "base_uri": "https://localhost:8080/"
        }
      },
      "outputs": [
        {
          "output_type": "stream",
          "name": "stdout",
          "text": [
            "[1 1 2 3 4 4 6]\n"
          ]
        }
      ],
      "source": [
        "C = np.bincount([1,1,2,3,4,4,6])\n",
        "A = np.repeat(np.arange(len(C)), C)\n",
        "print(A)"
      ]
    },
    {
      "cell_type": "markdown",
      "id": "d550c8e2",
      "metadata": {
        "id": "d550c8e2"
      },
      "source": [
        "#### 75. How to compute averages using a sliding window over an array? (★★★)"
      ]
    },
    {
      "cell_type": "code",
      "execution_count": 81,
      "id": "841c457c",
      "metadata": {
        "id": "841c457c",
        "outputId": "cc262d8b-7cd7-4285-b6c5-80fe943c335b",
        "colab": {
          "base_uri": "https://localhost:8080/"
        }
      },
      "outputs": [
        {
          "output_type": "stream",
          "name": "stdout",
          "text": [
            "[ 1.  2.  3.  4.  5.  6.  7.  8.  9. 10. 11. 12. 13. 14. 15. 16. 17. 18.]\n",
            "[ 1.  2.  3.  4.  5.  6.  7.  8.  9. 10. 11. 12. 13. 14. 15. 16. 17. 18.]\n"
          ]
        }
      ],
      "source": [
        "def moving_average(a, n=3) :\n",
        "    ret = np.cumsum(a, dtype=float)\n",
        "    ret[n:] = ret[n:] - ret[:-n]\n",
        "    return ret[n - 1:] / n\n",
        "Z = np.arange(20)\n",
        "print(moving_average(Z, n=3))\n",
        "from numpy.lib.stride_tricks import sliding_window_view\n",
        "Z = np.arange(20)\n",
        "print(sliding_window_view(Z, window_shape=3).mean(axis=-1))"
      ]
    },
    {
      "cell_type": "markdown",
      "id": "6b170b00",
      "metadata": {
        "id": "6b170b00"
      },
      "source": [
        "#### 76. Consider a one-dimensional array Z, build a two-dimensional array whose first row is (Z[0],Z[1],Z[2]) and each subsequent row is  shifted by 1 (last row should be (Z[-3],Z[-2],Z[-1]) (★★★)"
      ]
    },
    {
      "cell_type": "code",
      "execution_count": 82,
      "id": "d9a0cf4e",
      "metadata": {
        "id": "d9a0cf4e",
        "outputId": "311b8670-3bc1-4bf9-c6d5-f12e0d6e169b",
        "colab": {
          "base_uri": "https://localhost:8080/"
        }
      },
      "outputs": [
        {
          "output_type": "stream",
          "name": "stdout",
          "text": [
            "[[0 1 2]\n",
            " [1 2 3]\n",
            " [2 3 4]\n",
            " [3 4 5]\n",
            " [4 5 6]\n",
            " [5 6 7]\n",
            " [6 7 8]\n",
            " [7 8 9]]\n",
            "[[0 1 2]\n",
            " [1 2 3]\n",
            " [2 3 4]\n",
            " [3 4 5]\n",
            " [4 5 6]\n",
            " [5 6 7]\n",
            " [6 7 8]\n",
            " [7 8 9]]\n"
          ]
        }
      ],
      "source": [
        "from numpy.lib import stride_tricks\n",
        "\n",
        "def rolling(a, window):\n",
        "    shape = (a.size - window + 1, window)\n",
        "    strides = (a.strides[0], a.strides[0])\n",
        "    return stride_tricks.as_strided(a, shape=shape, strides=strides)\n",
        "Z = rolling(np.arange(10), 3)\n",
        "print(Z)\n",
        "Z = np.arange(10)\n",
        "print(sliding_window_view(Z, window_shape=3))"
      ]
    },
    {
      "cell_type": "markdown",
      "id": "e94a5c1d",
      "metadata": {
        "id": "e94a5c1d"
      },
      "source": [
        "#### 77. How to negate a boolean, or to change the sign of a float inplace? (★★★)"
      ]
    },
    {
      "cell_type": "code",
      "execution_count": 83,
      "id": "c0f9504f",
      "metadata": {
        "id": "c0f9504f",
        "outputId": "a995e151-4012-4000-a18b-05a4a52888fa",
        "colab": {
          "base_uri": "https://localhost:8080/"
        }
      },
      "outputs": [
        {
          "output_type": "execute_result",
          "data": {
            "text/plain": [
              "array([-0.18330355,  0.93274073,  0.28528054,  0.23939673, -0.49982303,\n",
              "        0.29038498, -0.04486582, -0.82863368, -0.57322094,  0.85516721,\n",
              "       -0.48915184,  0.89815882,  0.00891973,  0.3518541 , -0.77263894,\n",
              "        0.13226983, -0.33555824,  0.57438023,  0.4765699 , -0.89297476,\n",
              "        0.57567512,  0.34845516,  0.26766061,  0.02680392,  0.46796162,\n",
              "       -0.01889618,  0.19526702,  0.86178362, -0.41336003, -0.47378523,\n",
              "        0.52390989, -0.09122064, -0.44115393,  0.92218018, -0.04578678,\n",
              "        0.97371701,  0.71761118, -0.88493609, -0.75599472, -0.96254614,\n",
              "        0.41991181, -0.04696222, -0.60767649,  0.43650958,  0.90401929,\n",
              "        0.74902717, -0.51811592, -0.88846106, -0.35614781,  0.87979413,\n",
              "       -0.59669759,  0.59804938, -0.17273513,  0.39472604,  0.97739728,\n",
              "        0.34663252, -0.41397658, -0.73824857,  0.76782044, -0.27303926,\n",
              "        0.47394602,  0.01929255,  0.18236512, -0.79239624,  0.91657763,\n",
              "        0.84062888, -0.67121611,  0.30611506,  0.06450749, -0.03451786,\n",
              "       -0.43713261, -0.65554843, -0.08788261, -0.77055756, -0.8070941 ,\n",
              "       -0.05832256,  0.09208785, -0.19346359,  0.11406928, -0.18243305,\n",
              "        0.78344341, -0.34432458, -0.84483284, -0.53575627, -0.14388259,\n",
              "       -0.09147007, -0.24610628,  0.00444467, -0.29701769, -0.32972211,\n",
              "       -0.34755929, -0.38579258, -0.34746392, -0.97146106,  0.86700563,\n",
              "        0.42884908,  0.85187527,  0.65441855, -0.13782797,  0.0354341 ])"
            ]
          },
          "metadata": {},
          "execution_count": 83
        }
      ],
      "source": [
        "Z = np.random.randint(0,2,100)\n",
        "np.logical_not(Z, out=Z)\n",
        "\n",
        "Z = np.random.uniform(-1.0,1.0,100)\n",
        "np.negative(Z, out=Z)"
      ]
    },
    {
      "cell_type": "markdown",
      "id": "4eb8b5c1",
      "metadata": {
        "id": "4eb8b5c1"
      },
      "source": [
        "#### 78. Consider 2 sets of points P0,P1 describing lines (2d) and a point p, how to compute distance from p to each line i (P0[i],P1[i])? (★★★)"
      ]
    },
    {
      "cell_type": "code",
      "execution_count": 84,
      "id": "487f47ec",
      "metadata": {
        "id": "487f47ec",
        "outputId": "fe7e0757-2bbb-4c0c-ea12-37871ea30b90",
        "colab": {
          "base_uri": "https://localhost:8080/"
        }
      },
      "outputs": [
        {
          "output_type": "stream",
          "name": "stdout",
          "text": [
            "[ 3.19987401  0.86449897 11.86347246  1.35508978 14.50537178  0.18489543\n",
            "  6.40746101 10.5339336   1.64293292  0.30882056]\n"
          ]
        }
      ],
      "source": [
        "def distance(P0, P1, p):\n",
        "    T = P1 - P0\n",
        "    L = (T**2).sum(axis=1)\n",
        "    U = -((P0[:,0]-p[...,0])*T[:,0] + (P0[:,1]-p[...,1])*T[:,1]) / L\n",
        "    U = U.reshape(len(U),1)\n",
        "    D = P0 + U*T - p\n",
        "    return np.sqrt((D**2).sum(axis=1))\n",
        "\n",
        "P0 = np.random.uniform(-10,10,(10,2))\n",
        "P1 = np.random.uniform(-10,10,(10,2))\n",
        "p  = np.random.uniform(-10,10,( 1,2))\n",
        "print(distance(P0, P1, p))"
      ]
    },
    {
      "cell_type": "markdown",
      "id": "3df99948",
      "metadata": {
        "id": "3df99948"
      },
      "source": [
        "#### 79. Consider 2 sets of points P0,P1 describing lines (2d) and a set of points P, how to compute distance from each point j (P[j]) to each line i (P0[i],P1[i])? (★★★)"
      ]
    },
    {
      "cell_type": "code",
      "execution_count": 85,
      "id": "dc2df37b",
      "metadata": {
        "id": "dc2df37b",
        "outputId": "ec2e7168-cac8-468c-f7dd-ac4fa65e2112",
        "colab": {
          "base_uri": "https://localhost:8080/"
        }
      },
      "outputs": [
        {
          "output_type": "stream",
          "name": "stdout",
          "text": [
            "[[4.62228567e-01 1.30106862e+00 5.98433193e-01 7.44828063e+00\n",
            "  2.36224819e-01 4.68580487e+00 6.05202781e+00 3.86197705e+00\n",
            "  2.60797150e+00 1.23147792e-01]\n",
            " [1.05258493e+01 1.42611324e+01 1.45865668e+01 5.96027290e+00\n",
            "  9.79550676e+00 3.62338769e-01 1.30188981e+00 9.24055014e+00\n",
            "  6.98059358e+00 1.23154519e+01]\n",
            " [4.04652881e+00 5.18686414e+00 2.67601259e+00 6.30513309e+00\n",
            "  1.08316890e+00 4.36823257e-02 8.25154039e+00 5.41029166e-02\n",
            "  3.91421185e+00 2.38369239e-01]\n",
            " [2.30036168e+00 7.90194678e-01 2.49602508e+00 4.64767319e+00\n",
            "  4.70256154e+00 8.60598062e+00 1.24547880e+00 4.23887691e+00\n",
            "  1.85215032e+00 3.73916762e+00]\n",
            " [1.09660871e+00 7.18816850e+00 1.29355783e+01 6.77590080e+00\n",
            "  1.64106643e+01 1.14837800e+01 9.73940314e+00 2.43086387e+00\n",
            "  1.35674065e+01 1.56698253e+01]\n",
            " [3.51715679e+00 1.25846124e+00 5.81441133e+00 3.39243436e-01\n",
            "  1.06109240e+01 1.26978287e+01 4.87412310e+00 3.60512644e+00\n",
            "  7.75575812e+00 8.88518685e+00]\n",
            " [1.23236411e-01 4.69709473e+00 8.69175391e+00 2.08455876e+00\n",
            "  1.14977890e+01 1.00910886e+01 5.08958874e+00 1.76234532e-01\n",
            "  8.65211619e+00 1.07249069e+01]\n",
            " [1.13786749e+01 1.45673930e+01 1.38831974e+01 4.87161435e+00\n",
            "  7.97670178e+00 2.05265480e+00 6.75960571e-01 9.49124474e+00\n",
            "  5.16461709e+00 1.08740391e+01]\n",
            " [2.26219964e+00 4.57743733e+00 4.22780470e+00 3.93196907e+00\n",
            "  2.83697781e+00 3.55107461e+00 3.99917319e+00 5.44286177e-01\n",
            "  7.97072128e-06 3.36116175e+00]\n",
            " [7.29314686e+00 1.13092056e+01 1.26728015e+01 4.63579391e+00\n",
            "  1.01343467e+01 2.72075017e+00 2.27463391e+00 6.32869557e+00\n",
            "  7.31013454e+00 1.16667228e+01]]\n"
          ]
        }
      ],
      "source": [
        "P0 = np.random.uniform(-10, 10, (10,2))\n",
        "P1 = np.random.uniform(-10,10,(10,2))\n",
        "p = np.random.uniform(-10, 10, (10,2))\n",
        "print(np.array([distance(P0,P1,p_i) for p_i in p]))"
      ]
    },
    {
      "cell_type": "markdown",
      "id": "11e972c2",
      "metadata": {
        "id": "11e972c2"
      },
      "source": [
        "#### 80. Consider an arbitrary array, write a function that extract a subpart with a fixed shape and centered on a given element (pad with a `fill` value when necessary) (★★★)"
      ]
    },
    {
      "cell_type": "code",
      "execution_count": 87,
      "id": "0291247f",
      "metadata": {
        "id": "0291247f",
        "outputId": "b7927315-fa8e-438d-b4f5-782726f07601",
        "colab": {
          "base_uri": "https://localhost:8080/"
        }
      },
      "outputs": [
        {
          "output_type": "stream",
          "name": "stdout",
          "text": [
            "[[9 8 0 2 1 9 3 0 8 0]\n",
            " [7 2 3 3 5 4 7 8 6 6]\n",
            " [3 9 6 7 7 8 5 7 3 7]\n",
            " [9 7 2 0 6 3 0 9 6 3]\n",
            " [9 3 4 9 6 2 9 8 2 3]\n",
            " [8 4 6 3 5 0 4 5 2 4]\n",
            " [6 5 9 8 2 3 7 6 2 9]\n",
            " [1 1 6 0 4 1 5 3 7 9]\n",
            " [0 7 6 5 2 9 9 0 8 5]\n",
            " [7 5 0 4 6 5 1 2 6 4]]\n",
            "[[0 0 0 0 0]\n",
            " [0 9 8 0 2]\n",
            " [0 7 2 3 3]\n",
            " [0 3 9 6 7]\n",
            " [0 9 7 2 0]]\n"
          ]
        }
      ],
      "source": [
        "import numpy as np\n",
        "Z = np.random.randint(0,10,(10,10))\n",
        "shape = (5,5)\n",
        "fill  = 0\n",
        "position = (1,1)\n",
        "\n",
        "R = np.ones(shape, dtype=Z.dtype)*fill\n",
        "P  = np.array(list(position)).astype(int)\n",
        "Rs = np.array(list(R.shape)).astype(int)\n",
        "Zs = np.array(list(Z.shape)).astype(int)\n",
        "\n",
        "R_start = np.zeros((len(shape),)).astype(int)\n",
        "R_stop  = np.array(list(shape)).astype(int)\n",
        "Z_start = (P-Rs//2)\n",
        "Z_stop  = (P+Rs//2)+Rs%2\n",
        "\n",
        "R_start = (R_start - np.minimum(Z_start,0)).tolist()\n",
        "Z_start = (np.maximum(Z_start,0)).tolist()\n",
        "R_stop = np.maximum(R_start, (R_stop - np.maximum(Z_stop-Zs,0))).tolist()\n",
        "Z_stop = (np.minimum(Z_stop,Zs)).tolist()\n",
        "\n",
        "# Create a tuple of slice objects instead of a list\n",
        "r = tuple(slice(start,stop) for start,stop in zip(R_start,R_stop))\n",
        "z = tuple(slice(start,stop) for start,stop in zip(Z_start,Z_stop))\n",
        "\n",
        "# Index the arrays using the tuple of slices\n",
        "R[r] = Z[z]\n",
        "print(Z)\n",
        "print(R)"
      ]
    },
    {
      "cell_type": "markdown",
      "id": "93cfeab3",
      "metadata": {
        "id": "93cfeab3"
      },
      "source": [
        "#### 81. Consider an array Z = [1,2,3,4,5,6,7,8,9,10,11,12,13,14], how to generate an array R = [[1,2,3,4], [2,3,4,5], [3,4,5,6], ..., [11,12,13,14]]? (★★★)"
      ]
    },
    {
      "cell_type": "code",
      "execution_count": 88,
      "id": "360de791",
      "metadata": {
        "id": "360de791",
        "outputId": "6c07e144-ff75-4f64-960a-48e97d10be7c",
        "colab": {
          "base_uri": "https://localhost:8080/"
        }
      },
      "outputs": [
        {
          "output_type": "stream",
          "name": "stdout",
          "text": [
            "[[ 1  2  3  4]\n",
            " [ 2  3  4  5]\n",
            " [ 3  4  5  6]\n",
            " [ 4  5  6  7]\n",
            " [ 5  6  7  8]\n",
            " [ 6  7  8  9]\n",
            " [ 7  8  9 10]\n",
            " [ 8  9 10 11]\n",
            " [ 9 10 11 12]\n",
            " [10 11 12 13]\n",
            " [11 12 13 14]]\n",
            "[[ 1  2  3  4]\n",
            " [ 2  3  4  5]\n",
            " [ 3  4  5  6]\n",
            " [ 4  5  6  7]\n",
            " [ 5  6  7  8]\n",
            " [ 6  7  8  9]\n",
            " [ 7  8  9 10]\n",
            " [ 8  9 10 11]\n",
            " [ 9 10 11 12]\n",
            " [10 11 12 13]\n",
            " [11 12 13 14]]\n"
          ]
        }
      ],
      "source": [
        "Z = np.arange(1,15,dtype=np.uint32)\n",
        "R = stride_tricks.as_strided(Z,(11,4),(4,4))\n",
        "print(R)\n",
        "Z = np.arange(1, 15, dtype=np.uint32)\n",
        "print(sliding_window_view(Z, window_shape=4))"
      ]
    },
    {
      "cell_type": "markdown",
      "id": "4c15ceff",
      "metadata": {
        "id": "4c15ceff"
      },
      "source": [
        "#### 82. Compute a matrix rank (★★★)"
      ]
    },
    {
      "cell_type": "code",
      "execution_count": 89,
      "id": "9a4272d2",
      "metadata": {
        "id": "9a4272d2",
        "outputId": "9906df39-56c0-4620-f77e-2c0b64275ce3",
        "colab": {
          "base_uri": "https://localhost:8080/"
        }
      },
      "outputs": [
        {
          "output_type": "stream",
          "name": "stdout",
          "text": [
            "10\n",
            "10\n"
          ]
        }
      ],
      "source": [
        "Z = np.random.uniform(0,1,(10,10))\n",
        "U, S, V = np.linalg.svd(Z)\n",
        "rank = np.sum(S > 1e-10)\n",
        "print(rank)\n",
        "rank = np.linalg.matrix_rank(Z)\n",
        "print(rank)"
      ]
    },
    {
      "cell_type": "markdown",
      "id": "1171cb84",
      "metadata": {
        "id": "1171cb84"
      },
      "source": [
        "#### 83. How to find the most frequent value in an array?"
      ]
    },
    {
      "cell_type": "code",
      "execution_count": 90,
      "id": "33e951c8",
      "metadata": {
        "id": "33e951c8",
        "outputId": "14a32ca4-fdcb-4ee5-85f9-d16b5f3b37c0",
        "colab": {
          "base_uri": "https://localhost:8080/"
        }
      },
      "outputs": [
        {
          "output_type": "stream",
          "name": "stdout",
          "text": [
            "6\n"
          ]
        }
      ],
      "source": [
        "Z = np.random.randint(0,10,50)\n",
        "print(np.bincount(Z).argmax())"
      ]
    },
    {
      "cell_type": "markdown",
      "id": "04f472aa",
      "metadata": {
        "id": "04f472aa"
      },
      "source": [
        "#### 84. Extract all the contiguous 3x3 blocks from a random 10x10 matrix (★★★)"
      ]
    },
    {
      "cell_type": "code",
      "execution_count": 91,
      "id": "7aade14a",
      "metadata": {
        "id": "7aade14a",
        "outputId": "52f4b86d-d451-4606-ddba-35c57c8b9002",
        "colab": {
          "base_uri": "https://localhost:8080/"
        }
      },
      "outputs": [
        {
          "output_type": "stream",
          "name": "stdout",
          "text": [
            "[[[[0 3 3]\n",
            "   [2 2 2]\n",
            "   [4 3 0]]\n",
            "\n",
            "  [[3 3 2]\n",
            "   [2 2 0]\n",
            "   [3 0 0]]\n",
            "\n",
            "  [[3 2 2]\n",
            "   [2 0 3]\n",
            "   [0 0 0]]\n",
            "\n",
            "  [[2 2 3]\n",
            "   [0 3 4]\n",
            "   [0 0 0]]\n",
            "\n",
            "  [[2 3 0]\n",
            "   [3 4 1]\n",
            "   [0 0 3]]\n",
            "\n",
            "  [[3 0 2]\n",
            "   [4 1 3]\n",
            "   [0 3 1]]\n",
            "\n",
            "  [[0 2 2]\n",
            "   [1 3 3]\n",
            "   [3 1 3]]\n",
            "\n",
            "  [[2 2 2]\n",
            "   [3 3 3]\n",
            "   [1 3 4]]]\n",
            "\n",
            "\n",
            " [[[2 2 2]\n",
            "   [4 3 0]\n",
            "   [2 3 1]]\n",
            "\n",
            "  [[2 2 0]\n",
            "   [3 0 0]\n",
            "   [3 1 3]]\n",
            "\n",
            "  [[2 0 3]\n",
            "   [0 0 0]\n",
            "   [1 3 4]]\n",
            "\n",
            "  [[0 3 4]\n",
            "   [0 0 0]\n",
            "   [3 4 3]]\n",
            "\n",
            "  [[3 4 1]\n",
            "   [0 0 3]\n",
            "   [4 3 3]]\n",
            "\n",
            "  [[4 1 3]\n",
            "   [0 3 1]\n",
            "   [3 3 1]]\n",
            "\n",
            "  [[1 3 3]\n",
            "   [3 1 3]\n",
            "   [3 1 1]]\n",
            "\n",
            "  [[3 3 3]\n",
            "   [1 3 4]\n",
            "   [1 1 0]]]\n",
            "\n",
            "\n",
            " [[[4 3 0]\n",
            "   [2 3 1]\n",
            "   [2 1 3]]\n",
            "\n",
            "  [[3 0 0]\n",
            "   [3 1 3]\n",
            "   [1 3 0]]\n",
            "\n",
            "  [[0 0 0]\n",
            "   [1 3 4]\n",
            "   [3 0 1]]\n",
            "\n",
            "  [[0 0 0]\n",
            "   [3 4 3]\n",
            "   [0 1 0]]\n",
            "\n",
            "  [[0 0 3]\n",
            "   [4 3 3]\n",
            "   [1 0 3]]\n",
            "\n",
            "  [[0 3 1]\n",
            "   [3 3 1]\n",
            "   [0 3 3]]\n",
            "\n",
            "  [[3 1 3]\n",
            "   [3 1 1]\n",
            "   [3 3 0]]\n",
            "\n",
            "  [[1 3 4]\n",
            "   [1 1 0]\n",
            "   [3 0 3]]]\n",
            "\n",
            "\n",
            " [[[2 3 1]\n",
            "   [2 1 3]\n",
            "   [4 3 2]]\n",
            "\n",
            "  [[3 1 3]\n",
            "   [1 3 0]\n",
            "   [3 2 0]]\n",
            "\n",
            "  [[1 3 4]\n",
            "   [3 0 1]\n",
            "   [2 0 4]]\n",
            "\n",
            "  [[3 4 3]\n",
            "   [0 1 0]\n",
            "   [0 4 4]]\n",
            "\n",
            "  [[4 3 3]\n",
            "   [1 0 3]\n",
            "   [4 4 4]]\n",
            "\n",
            "  [[3 3 1]\n",
            "   [0 3 3]\n",
            "   [4 4 0]]\n",
            "\n",
            "  [[3 1 1]\n",
            "   [3 3 0]\n",
            "   [4 0 3]]\n",
            "\n",
            "  [[1 1 0]\n",
            "   [3 0 3]\n",
            "   [0 3 4]]]\n",
            "\n",
            "\n",
            " [[[2 1 3]\n",
            "   [4 3 2]\n",
            "   [2 4 1]]\n",
            "\n",
            "  [[1 3 0]\n",
            "   [3 2 0]\n",
            "   [4 1 0]]\n",
            "\n",
            "  [[3 0 1]\n",
            "   [2 0 4]\n",
            "   [1 0 3]]\n",
            "\n",
            "  [[0 1 0]\n",
            "   [0 4 4]\n",
            "   [0 3 2]]\n",
            "\n",
            "  [[1 0 3]\n",
            "   [4 4 4]\n",
            "   [3 2 4]]\n",
            "\n",
            "  [[0 3 3]\n",
            "   [4 4 0]\n",
            "   [2 4 0]]\n",
            "\n",
            "  [[3 3 0]\n",
            "   [4 0 3]\n",
            "   [4 0 3]]\n",
            "\n",
            "  [[3 0 3]\n",
            "   [0 3 4]\n",
            "   [0 3 2]]]\n",
            "\n",
            "\n",
            " [[[4 3 2]\n",
            "   [2 4 1]\n",
            "   [1 4 2]]\n",
            "\n",
            "  [[3 2 0]\n",
            "   [4 1 0]\n",
            "   [4 2 4]]\n",
            "\n",
            "  [[2 0 4]\n",
            "   [1 0 3]\n",
            "   [2 4 0]]\n",
            "\n",
            "  [[0 4 4]\n",
            "   [0 3 2]\n",
            "   [4 0 2]]\n",
            "\n",
            "  [[4 4 4]\n",
            "   [3 2 4]\n",
            "   [0 2 0]]\n",
            "\n",
            "  [[4 4 0]\n",
            "   [2 4 0]\n",
            "   [2 0 1]]\n",
            "\n",
            "  [[4 0 3]\n",
            "   [4 0 3]\n",
            "   [0 1 3]]\n",
            "\n",
            "  [[0 3 4]\n",
            "   [0 3 2]\n",
            "   [1 3 4]]]\n",
            "\n",
            "\n",
            " [[[2 4 1]\n",
            "   [1 4 2]\n",
            "   [4 4 2]]\n",
            "\n",
            "  [[4 1 0]\n",
            "   [4 2 4]\n",
            "   [4 2 0]]\n",
            "\n",
            "  [[1 0 3]\n",
            "   [2 4 0]\n",
            "   [2 0 2]]\n",
            "\n",
            "  [[0 3 2]\n",
            "   [4 0 2]\n",
            "   [0 2 4]]\n",
            "\n",
            "  [[3 2 4]\n",
            "   [0 2 0]\n",
            "   [2 4 2]]\n",
            "\n",
            "  [[2 4 0]\n",
            "   [2 0 1]\n",
            "   [4 2 4]]\n",
            "\n",
            "  [[4 0 3]\n",
            "   [0 1 3]\n",
            "   [2 4 2]]\n",
            "\n",
            "  [[0 3 2]\n",
            "   [1 3 4]\n",
            "   [4 2 0]]]\n",
            "\n",
            "\n",
            " [[[1 4 2]\n",
            "   [4 4 2]\n",
            "   [0 3 3]]\n",
            "\n",
            "  [[4 2 4]\n",
            "   [4 2 0]\n",
            "   [3 3 1]]\n",
            "\n",
            "  [[2 4 0]\n",
            "   [2 0 2]\n",
            "   [3 1 4]]\n",
            "\n",
            "  [[4 0 2]\n",
            "   [0 2 4]\n",
            "   [1 4 1]]\n",
            "\n",
            "  [[0 2 0]\n",
            "   [2 4 2]\n",
            "   [4 1 2]]\n",
            "\n",
            "  [[2 0 1]\n",
            "   [4 2 4]\n",
            "   [1 2 4]]\n",
            "\n",
            "  [[0 1 3]\n",
            "   [2 4 2]\n",
            "   [2 4 4]]\n",
            "\n",
            "  [[1 3 4]\n",
            "   [4 2 0]\n",
            "   [4 4 0]]]]\n",
            "[[[[1 3 4]\n",
            "   [0 4 3]\n",
            "   [3 0 1]]\n",
            "\n",
            "  [[3 4 1]\n",
            "   [4 3 0]\n",
            "   [0 1 0]]\n",
            "\n",
            "  [[4 1 2]\n",
            "   [3 0 2]\n",
            "   [1 0 0]]\n",
            "\n",
            "  [[1 2 0]\n",
            "   [0 2 3]\n",
            "   [0 0 2]]\n",
            "\n",
            "  [[2 0 2]\n",
            "   [2 3 2]\n",
            "   [0 2 1]]\n",
            "\n",
            "  [[0 2 4]\n",
            "   [3 2 1]\n",
            "   [2 1 3]]\n",
            "\n",
            "  [[2 4 1]\n",
            "   [2 1 1]\n",
            "   [1 3 0]]\n",
            "\n",
            "  [[4 1 3]\n",
            "   [1 1 2]\n",
            "   [3 0 4]]]\n",
            "\n",
            "\n",
            " [[[0 4 3]\n",
            "   [3 0 1]\n",
            "   [0 1 3]]\n",
            "\n",
            "  [[4 3 0]\n",
            "   [0 1 0]\n",
            "   [1 3 0]]\n",
            "\n",
            "  [[3 0 2]\n",
            "   [1 0 0]\n",
            "   [3 0 1]]\n",
            "\n",
            "  [[0 2 3]\n",
            "   [0 0 2]\n",
            "   [0 1 1]]\n",
            "\n",
            "  [[2 3 2]\n",
            "   [0 2 1]\n",
            "   [1 1 4]]\n",
            "\n",
            "  [[3 2 1]\n",
            "   [2 1 3]\n",
            "   [1 4 4]]\n",
            "\n",
            "  [[2 1 1]\n",
            "   [1 3 0]\n",
            "   [4 4 1]]\n",
            "\n",
            "  [[1 1 2]\n",
            "   [3 0 4]\n",
            "   [4 1 4]]]\n",
            "\n",
            "\n",
            " [[[3 0 1]\n",
            "   [0 1 3]\n",
            "   [2 2 3]]\n",
            "\n",
            "  [[0 1 0]\n",
            "   [1 3 0]\n",
            "   [2 3 2]]\n",
            "\n",
            "  [[1 0 0]\n",
            "   [3 0 1]\n",
            "   [3 2 3]]\n",
            "\n",
            "  [[0 0 2]\n",
            "   [0 1 1]\n",
            "   [2 3 1]]\n",
            "\n",
            "  [[0 2 1]\n",
            "   [1 1 4]\n",
            "   [3 1 2]]\n",
            "\n",
            "  [[2 1 3]\n",
            "   [1 4 4]\n",
            "   [1 2 2]]\n",
            "\n",
            "  [[1 3 0]\n",
            "   [4 4 1]\n",
            "   [2 2 0]]\n",
            "\n",
            "  [[3 0 4]\n",
            "   [4 1 4]\n",
            "   [2 0 4]]]\n",
            "\n",
            "\n",
            " [[[0 1 3]\n",
            "   [2 2 3]\n",
            "   [1 1 2]]\n",
            "\n",
            "  [[1 3 0]\n",
            "   [2 3 2]\n",
            "   [1 2 4]]\n",
            "\n",
            "  [[3 0 1]\n",
            "   [3 2 3]\n",
            "   [2 4 3]]\n",
            "\n",
            "  [[0 1 1]\n",
            "   [2 3 1]\n",
            "   [4 3 3]]\n",
            "\n",
            "  [[1 1 4]\n",
            "   [3 1 2]\n",
            "   [3 3 3]]\n",
            "\n",
            "  [[1 4 4]\n",
            "   [1 2 2]\n",
            "   [3 3 4]]\n",
            "\n",
            "  [[4 4 1]\n",
            "   [2 2 0]\n",
            "   [3 4 3]]\n",
            "\n",
            "  [[4 1 4]\n",
            "   [2 0 4]\n",
            "   [4 3 4]]]\n",
            "\n",
            "\n",
            " [[[2 2 3]\n",
            "   [1 1 2]\n",
            "   [0 3 0]]\n",
            "\n",
            "  [[2 3 2]\n",
            "   [1 2 4]\n",
            "   [3 0 4]]\n",
            "\n",
            "  [[3 2 3]\n",
            "   [2 4 3]\n",
            "   [0 4 0]]\n",
            "\n",
            "  [[2 3 1]\n",
            "   [4 3 3]\n",
            "   [4 0 3]]\n",
            "\n",
            "  [[3 1 2]\n",
            "   [3 3 3]\n",
            "   [0 3 2]]\n",
            "\n",
            "  [[1 2 2]\n",
            "   [3 3 4]\n",
            "   [3 2 4]]\n",
            "\n",
            "  [[2 2 0]\n",
            "   [3 4 3]\n",
            "   [2 4 0]]\n",
            "\n",
            "  [[2 0 4]\n",
            "   [4 3 4]\n",
            "   [4 0 1]]]\n",
            "\n",
            "\n",
            " [[[1 1 2]\n",
            "   [0 3 0]\n",
            "   [2 2 0]]\n",
            "\n",
            "  [[1 2 4]\n",
            "   [3 0 4]\n",
            "   [2 0 0]]\n",
            "\n",
            "  [[2 4 3]\n",
            "   [0 4 0]\n",
            "   [0 0 1]]\n",
            "\n",
            "  [[4 3 3]\n",
            "   [4 0 3]\n",
            "   [0 1 1]]\n",
            "\n",
            "  [[3 3 3]\n",
            "   [0 3 2]\n",
            "   [1 1 3]]\n",
            "\n",
            "  [[3 3 4]\n",
            "   [3 2 4]\n",
            "   [1 3 1]]\n",
            "\n",
            "  [[3 4 3]\n",
            "   [2 4 0]\n",
            "   [3 1 2]]\n",
            "\n",
            "  [[4 3 4]\n",
            "   [4 0 1]\n",
            "   [1 2 3]]]\n",
            "\n",
            "\n",
            " [[[0 3 0]\n",
            "   [2 2 0]\n",
            "   [0 1 0]]\n",
            "\n",
            "  [[3 0 4]\n",
            "   [2 0 0]\n",
            "   [1 0 2]]\n",
            "\n",
            "  [[0 4 0]\n",
            "   [0 0 1]\n",
            "   [0 2 1]]\n",
            "\n",
            "  [[4 0 3]\n",
            "   [0 1 1]\n",
            "   [2 1 4]]\n",
            "\n",
            "  [[0 3 2]\n",
            "   [1 1 3]\n",
            "   [1 4 1]]\n",
            "\n",
            "  [[3 2 4]\n",
            "   [1 3 1]\n",
            "   [4 1 4]]\n",
            "\n",
            "  [[2 4 0]\n",
            "   [3 1 2]\n",
            "   [1 4 4]]\n",
            "\n",
            "  [[4 0 1]\n",
            "   [1 2 3]\n",
            "   [4 4 4]]]\n",
            "\n",
            "\n",
            " [[[2 2 0]\n",
            "   [0 1 0]\n",
            "   [3 3 4]]\n",
            "\n",
            "  [[2 0 0]\n",
            "   [1 0 2]\n",
            "   [3 4 4]]\n",
            "\n",
            "  [[0 0 1]\n",
            "   [0 2 1]\n",
            "   [4 4 4]]\n",
            "\n",
            "  [[0 1 1]\n",
            "   [2 1 4]\n",
            "   [4 4 0]]\n",
            "\n",
            "  [[1 1 3]\n",
            "   [1 4 1]\n",
            "   [4 0 4]]\n",
            "\n",
            "  [[1 3 1]\n",
            "   [4 1 4]\n",
            "   [0 4 3]]\n",
            "\n",
            "  [[3 1 2]\n",
            "   [1 4 4]\n",
            "   [4 3 2]]\n",
            "\n",
            "  [[1 2 3]\n",
            "   [4 4 4]\n",
            "   [3 2 2]]]]\n"
          ]
        }
      ],
      "source": [
        "Z = np.random.randint(0,5,(10,10))\n",
        "n = 3\n",
        "i = 1 + (Z.shape[0]-3)\n",
        "j = 1 + (Z.shape[1]-3)\n",
        "C = stride_tricks.as_strided(Z, shape=(i, j, n, n), strides=Z.strides + Z.strides)\n",
        "print(C)\n",
        "Z = np.random.randint(0,5,(10,10))\n",
        "print(sliding_window_view(Z, window_shape=(3, 3)))"
      ]
    },
    {
      "cell_type": "markdown",
      "id": "52836346",
      "metadata": {
        "id": "52836346"
      },
      "source": [
        "#### 85. Create a 2D array subclass such that Z[i,j] == Z[j,i] (★★★)"
      ]
    },
    {
      "cell_type": "code",
      "execution_count": 92,
      "id": "4df70318",
      "metadata": {
        "id": "4df70318",
        "outputId": "eb6f5eb6-1d5a-4d51-b839-22c81fbeba59",
        "colab": {
          "base_uri": "https://localhost:8080/"
        }
      },
      "outputs": [
        {
          "output_type": "stream",
          "name": "stdout",
          "text": [
            "[[ 0  7 12 11  7]\n",
            " [ 7  0 13  6 10]\n",
            " [12 13  8 42  3]\n",
            " [11  6 42  2  9]\n",
            " [ 7 10  3  9  4]]\n"
          ]
        }
      ],
      "source": [
        "class Symetric(np.ndarray):\n",
        "    def __setitem__(self, index, value):\n",
        "        i,j = index\n",
        "        super(Symetric, self).__setitem__((i,j), value)\n",
        "        super(Symetric, self).__setitem__((j,i), value)\n",
        "\n",
        "def symetric(Z):\n",
        "    return np.asarray(Z + Z.T - np.diag(Z.diagonal())).view(Symetric)\n",
        "\n",
        "S = symetric(np.random.randint(0,10,(5,5)))\n",
        "S[2,3] = 42\n",
        "print(S)"
      ]
    },
    {
      "cell_type": "markdown",
      "id": "78c43ee5",
      "metadata": {
        "id": "78c43ee5"
      },
      "source": [
        "#### 86. Consider a set of p matrices with shape (n,n) and a set of p vectors with shape (n,1). How to compute the sum of of the p matrix products at once? (result has shape (n,1)) (★★★)"
      ]
    },
    {
      "cell_type": "code",
      "execution_count": 93,
      "id": "32fd2c3b",
      "metadata": {
        "id": "32fd2c3b",
        "outputId": "6294437e-b784-4c42-b8ae-c19fd6e31f3a",
        "colab": {
          "base_uri": "https://localhost:8080/"
        }
      },
      "outputs": [
        {
          "output_type": "stream",
          "name": "stdout",
          "text": [
            "[[200.]\n",
            " [200.]\n",
            " [200.]\n",
            " [200.]\n",
            " [200.]\n",
            " [200.]\n",
            " [200.]\n",
            " [200.]\n",
            " [200.]\n",
            " [200.]\n",
            " [200.]\n",
            " [200.]\n",
            " [200.]\n",
            " [200.]\n",
            " [200.]\n",
            " [200.]\n",
            " [200.]\n",
            " [200.]\n",
            " [200.]\n",
            " [200.]]\n"
          ]
        }
      ],
      "source": [
        "p, n = 10, 20\n",
        "M = np.ones((p,n,n))\n",
        "V = np.ones((p,n,1))\n",
        "S = np.tensordot(M, V, axes=[[0, 2], [0, 1]])\n",
        "print(S)"
      ]
    },
    {
      "cell_type": "markdown",
      "id": "158f9945",
      "metadata": {
        "id": "158f9945"
      },
      "source": [
        "#### 87. Consider a 16x16 array, how to get the block-sum (block size is 4x4)? (★★★)"
      ]
    },
    {
      "cell_type": "code",
      "execution_count": 94,
      "id": "5a9b808f",
      "metadata": {
        "id": "5a9b808f",
        "outputId": "549a4c8e-0554-4190-ab60-b097e55bc817",
        "colab": {
          "base_uri": "https://localhost:8080/"
        }
      },
      "outputs": [
        {
          "output_type": "stream",
          "name": "stdout",
          "text": [
            "[[16. 16. 16. 16.]\n",
            " [16. 16. 16. 16.]\n",
            " [16. 16. 16. 16.]\n",
            " [16. 16. 16. 16.]]\n",
            "[[16. 16. 16. 16.]\n",
            " [16. 16. 16. 16.]\n",
            " [16. 16. 16. 16.]\n",
            " [16. 16. 16. 16.]]\n"
          ]
        }
      ],
      "source": [
        "Z = np.ones((16,16))\n",
        "k = 4\n",
        "S = np.add.reduceat(np.add.reduceat(Z, np.arange(0, Z.shape[0], k), axis=0),\n",
        "                                       np.arange(0, Z.shape[1], k), axis=1)\n",
        "print(S)\n",
        "Z = np.ones((16,16))\n",
        "k = 4\n",
        "\n",
        "windows = np.lib.stride_tricks.sliding_window_view(Z, (k, k))\n",
        "S = windows[::k, ::k, ...].sum(axis=(-2, -1))\n",
        "\n",
        "Z = np.ones((16, 16))\n",
        "k = 4\n",
        "print(sliding_window_view(Z, window_shape=(k, k))[::k, ::k].sum(axis=(-2, -1)))"
      ]
    },
    {
      "cell_type": "markdown",
      "id": "2e0ad860",
      "metadata": {
        "id": "2e0ad860"
      },
      "source": [
        "#### 88. How to implement the Game of Life using numpy arrays? (★★★)"
      ]
    },
    {
      "cell_type": "code",
      "execution_count": 95,
      "id": "574acff5",
      "metadata": {
        "id": "574acff5",
        "outputId": "ca285a3a-cb7d-478a-91e8-4dfa84eb9a66",
        "colab": {
          "base_uri": "https://localhost:8080/"
        }
      },
      "outputs": [
        {
          "output_type": "stream",
          "name": "stdout",
          "text": [
            "[[0 0 0 0 0 0 0 0 0 0 0 0 0 0 0 0 0 0 0 0 0 0 0 0 0 0 0 0 0 0 0 0 0 0 0 0\n",
            "  0 0 0 0 0 0 0 0 0 0 0 0 0 0]\n",
            " [0 0 0 0 0 0 0 0 0 0 0 0 0 0 0 0 0 0 0 0 0 0 0 0 0 0 0 0 0 0 0 0 0 0 0 0\n",
            "  0 0 0 0 0 0 0 0 0 0 0 0 0 0]\n",
            " [0 0 0 0 0 0 0 0 0 0 0 0 0 0 0 0 0 0 0 0 0 0 0 0 0 0 0 0 0 0 0 0 0 0 0 0\n",
            "  0 0 0 0 0 0 0 0 0 0 0 0 0 0]\n",
            " [0 0 0 0 0 0 0 0 0 0 0 0 0 0 0 0 0 0 0 0 0 0 0 0 1 0 0 0 0 0 0 0 0 0 0 0\n",
            "  0 0 0 0 0 0 0 0 0 0 0 0 0 0]\n",
            " [0 0 0 0 0 0 0 0 0 0 0 0 0 0 0 0 0 0 0 0 0 0 0 1 1 0 0 0 0 0 0 0 0 0 0 0\n",
            "  0 0 0 0 0 0 0 0 0 0 0 0 0 0]\n",
            " [0 0 0 0 0 0 0 0 0 0 0 0 0 0 0 0 0 0 0 0 0 0 1 1 0 1 0 0 0 0 0 0 0 0 0 0\n",
            "  0 0 0 0 0 0 0 0 0 0 0 0 0 0]\n",
            " [0 0 0 0 0 0 0 0 0 0 0 0 0 0 0 0 0 0 0 0 0 0 0 1 0 1 1 0 0 1 0 0 0 0 0 0\n",
            "  0 0 0 0 0 0 0 0 0 0 0 0 0 0]\n",
            " [0 0 0 0 0 0 0 0 0 0 0 0 0 0 0 0 0 0 1 1 0 0 0 0 1 1 1 0 0 0 1 1 0 0 1 0\n",
            "  0 0 0 0 0 0 0 0 0 0 0 0 0 0]\n",
            " [0 0 0 0 0 0 0 0 0 0 0 0 0 0 0 0 0 0 1 1 0 0 0 0 0 0 1 1 0 0 1 0 0 1 0 1\n",
            "  0 0 0 0 0 0 0 0 0 0 0 0 0 0]\n",
            " [0 0 0 0 0 0 0 0 0 0 0 0 0 0 0 0 0 0 0 0 0 0 0 0 0 0 0 0 1 1 0 0 1 0 0 1\n",
            "  0 0 0 0 0 0 0 0 0 0 0 0 0 0]\n",
            " [0 0 0 0 0 0 0 0 0 0 0 0 0 0 0 0 0 0 0 0 0 0 0 0 0 0 0 0 1 0 0 0 0 0 0 1\n",
            "  0 0 0 0 0 0 0 0 0 0 0 0 0 0]\n",
            " [0 0 0 0 0 0 0 0 0 0 0 0 0 0 0 0 0 0 0 0 0 0 0 0 0 0 0 0 0 0 0 0 0 0 0 0\n",
            "  0 0 0 0 1 1 1 0 0 0 0 0 0 0]\n",
            " [0 0 0 0 0 0 0 0 0 0 0 0 0 0 0 0 0 0 0 0 0 0 0 0 0 1 1 1 0 0 1 1 0 0 0 0\n",
            "  0 1 1 0 0 0 0 0 0 0 0 0 0 0]\n",
            " [0 0 0 0 0 0 0 0 0 0 0 0 0 0 0 0 0 0 0 0 0 0 0 0 0 1 0 1 0 0 0 0 0 1 0 0\n",
            "  0 1 1 0 0 0 0 0 1 0 0 0 0 0]\n",
            " [0 0 0 0 0 0 0 0 0 0 0 0 0 0 0 0 0 0 0 0 0 0 0 0 1 0 0 1 0 0 1 0 0 0 0 1\n",
            "  0 1 1 0 0 0 0 0 1 0 0 0 0 0]\n",
            " [0 0 0 0 0 0 0 0 0 0 0 0 0 0 0 0 0 0 0 0 0 0 0 0 0 0 0 0 0 0 0 0 1 0 0 1\n",
            "  0 0 0 0 0 0 0 0 1 0 0 0 0 0]\n",
            " [0 0 0 0 0 0 0 0 0 0 0 0 0 0 0 0 0 0 0 0 0 0 0 0 0 0 0 0 0 0 0 0 1 0 0 1\n",
            "  1 0 0 0 0 0 0 0 0 0 0 0 0 0]\n",
            " [0 0 0 1 0 0 0 0 0 0 0 0 0 0 0 0 0 0 1 0 0 0 0 0 0 0 0 0 0 0 0 0 1 1 0 1\n",
            "  1 0 0 0 1 1 1 0 0 0 0 0 0 0]\n",
            " [0 0 1 0 1 0 0 0 0 0 0 0 0 0 0 0 0 1 0 0 1 0 0 0 0 0 0 0 0 0 0 0 1 0 0 1\n",
            "  0 0 0 0 0 0 0 0 0 0 0 0 0 0]\n",
            " [0 1 0 0 1 0 0 0 0 0 0 0 0 0 0 0 0 0 0 0 1 0 0 0 0 0 0 0 0 0 0 0 0 1 1 0\n",
            "  0 0 0 0 0 0 0 0 0 0 0 0 0 0]\n",
            " [0 0 1 1 0 0 0 0 0 0 0 0 0 0 0 0 1 0 0 0 0 1 0 0 0 0 0 0 0 1 0 0 0 0 0 0\n",
            "  0 0 0 0 0 0 0 0 0 0 0 0 0 0]\n",
            " [0 0 0 0 0 0 0 0 0 0 0 0 0 0 0 0 0 0 0 0 1 1 0 0 0 0 0 0 1 1 1 0 0 0 0 0\n",
            "  0 0 0 0 0 0 0 0 0 0 0 0 0 0]\n",
            " [0 0 0 0 0 0 0 0 0 0 0 0 0 0 0 0 0 1 1 0 1 1 0 0 0 0 0 1 1 0 0 1 0 0 0 0\n",
            "  0 0 0 0 0 0 0 0 0 0 0 0 0 0]\n",
            " [0 0 0 0 0 0 0 0 0 0 0 0 0 0 0 0 0 1 0 0 1 0 0 0 0 0 1 1 1 0 0 1 1 0 0 0\n",
            "  0 0 0 0 0 0 0 0 0 0 0 0 0 0]\n",
            " [0 0 0 0 0 0 0 0 0 0 0 0 0 0 0 0 0 0 1 1 1 0 0 0 0 0 0 1 1 0 0 1 1 1 0 0\n",
            "  0 0 0 0 0 0 0 0 0 0 0 0 0 0]\n",
            " [0 0 0 0 0 0 0 0 0 0 0 0 0 0 0 1 1 1 1 1 1 0 0 0 0 0 1 1 1 0 0 0 0 0 0 0\n",
            "  0 0 0 0 0 0 0 0 0 0 0 0 0 0]\n",
            " [0 0 0 0 0 0 0 0 0 0 0 0 0 0 0 1 1 1 0 0 0 0 0 0 0 0 0 1 1 0 0 0 0 0 0 0\n",
            "  0 0 0 0 0 0 0 0 0 0 0 0 0 0]\n",
            " [0 0 0 0 0 0 0 0 0 0 0 0 0 0 0 1 1 0 0 0 0 1 1 1 0 0 0 0 0 0 0 0 0 0 0 0\n",
            "  0 0 0 0 0 0 0 0 0 0 0 0 0 0]\n",
            " [0 0 0 0 0 0 0 0 0 1 0 0 0 0 0 0 0 0 0 1 1 1 0 1 1 0 1 1 0 0 0 0 0 0 0 0\n",
            "  0 0 0 0 0 0 0 0 0 0 0 0 0 0]\n",
            " [0 0 0 0 0 0 0 0 1 0 1 0 0 0 0 0 0 0 0 1 1 1 1 1 0 0 1 1 0 0 0 1 1 1 0 0\n",
            "  0 0 0 0 1 1 0 0 0 0 0 0 0 0]\n",
            " [0 0 0 0 0 0 0 0 0 1 0 1 0 0 0 0 0 0 0 0 0 0 1 0 0 0 1 1 0 0 0 0 0 0 0 0\n",
            "  0 0 0 1 0 0 1 0 0 0 0 0 0 0]\n",
            " [0 0 0 0 0 0 0 0 0 0 1 1 0 0 0 0 0 0 0 0 1 1 0 0 0 0 1 1 1 0 0 0 0 0 0 0\n",
            "  0 0 0 0 1 1 0 0 0 0 0 0 0 0]\n",
            " [0 0 0 0 0 0 0 0 0 0 0 0 0 0 0 0 0 0 0 0 1 0 0 0 0 0 0 1 0 0 0 0 0 0 0 0\n",
            "  0 0 0 0 0 0 0 0 0 0 0 0 0 0]\n",
            " [0 0 0 0 0 0 0 0 0 0 0 0 0 0 0 0 0 0 0 0 0 0 0 0 0 0 0 1 1 0 0 0 0 0 0 0\n",
            "  0 0 0 0 0 0 0 0 0 0 0 0 0 0]\n",
            " [0 0 0 0 0 0 0 0 0 0 0 0 0 0 0 0 0 0 0 0 0 0 0 0 0 0 0 0 1 0 0 0 0 0 0 0\n",
            "  0 0 0 0 0 1 1 0 0 0 0 0 0 0]\n",
            " [0 0 0 0 0 0 0 0 0 0 0 0 0 0 0 0 0 0 0 0 0 0 0 0 0 0 1 0 0 0 0 0 0 0 0 0\n",
            "  0 0 0 0 0 1 1 0 0 0 0 0 0 0]\n",
            " [0 0 0 0 0 0 0 0 0 0 0 0 0 0 0 0 0 0 0 0 0 0 0 0 0 0 1 0 0 0 0 0 0 0 0 0\n",
            "  0 0 0 0 0 0 0 0 0 0 0 0 0 0]\n",
            " [0 0 0 0 0 0 0 0 0 0 0 0 0 0 0 0 0 0 0 0 0 0 0 0 0 0 0 0 0 0 0 0 0 0 0 0\n",
            "  0 0 0 0 0 0 0 0 1 1 0 0 0 0]\n",
            " [0 0 0 0 0 0 0 0 0 0 0 0 0 0 0 0 0 0 0 0 0 0 0 0 0 0 0 0 0 0 0 0 0 0 0 0\n",
            "  0 0 0 0 0 0 0 0 1 1 0 0 0 0]\n",
            " [0 0 0 0 0 0 0 0 0 0 0 0 0 0 0 0 0 0 0 0 0 0 0 0 0 0 0 0 0 0 0 0 0 0 0 0\n",
            "  0 0 0 0 0 0 0 0 0 0 0 0 0 0]\n",
            " [0 0 0 0 0 0 0 0 0 0 0 0 0 0 0 0 0 0 0 0 0 0 0 0 0 0 0 0 0 0 0 0 0 0 0 0\n",
            "  0 0 0 0 0 0 0 0 0 0 0 0 0 0]\n",
            " [0 0 0 0 0 0 0 0 0 0 1 1 1 0 0 0 0 0 1 1 1 0 0 0 0 0 0 0 0 0 0 0 0 0 0 0\n",
            "  0 0 0 0 0 0 0 0 0 0 0 0 0 0]\n",
            " [0 0 0 0 0 0 0 0 0 0 0 0 0 0 0 0 0 0 0 0 0 1 0 0 0 0 0 0 0 0 0 0 0 0 0 0\n",
            "  0 0 0 0 0 0 0 0 0 0 0 0 0 0]\n",
            " [0 0 0 0 0 0 0 0 0 0 0 0 0 0 0 0 0 0 0 0 0 1 0 0 0 0 0 0 0 0 0 0 0 1 1 1\n",
            "  0 0 0 0 0 0 0 0 0 0 0 0 0 0]\n",
            " [0 0 0 0 0 0 0 0 0 0 0 0 0 0 0 0 0 0 0 0 0 1 0 1 0 0 0 0 0 0 0 0 0 0 0 0\n",
            "  0 0 0 0 0 0 0 0 0 0 0 0 0 0]\n",
            " [0 0 0 0 0 0 0 0 0 0 0 0 0 0 0 0 0 0 0 0 0 0 0 1 0 0 0 0 0 0 0 0 0 0 0 0\n",
            "  0 0 0 0 0 0 0 0 0 0 0 0 0 0]\n",
            " [0 0 0 0 0 0 0 0 0 0 0 0 0 0 0 0 0 0 0 0 0 0 0 0 0 0 0 0 0 0 0 0 0 0 0 0\n",
            "  0 0 0 0 1 1 0 0 0 0 0 0 0 0]\n",
            " [0 0 0 0 0 0 0 0 0 0 0 0 0 0 0 0 0 0 1 1 0 1 1 0 0 0 0 0 0 0 0 0 0 0 0 1\n",
            "  1 0 0 0 1 0 1 0 0 0 1 1 1 0]\n",
            " [0 0 0 0 0 0 0 0 0 0 0 0 0 0 0 0 0 0 0 0 0 0 0 0 0 0 0 0 0 0 0 0 0 0 0 1\n",
            "  1 0 0 0 0 1 0 0 0 0 0 0 0 0]\n",
            " [0 0 0 0 0 0 0 0 0 0 0 0 0 0 0 0 0 0 0 0 0 0 0 0 0 0 0 0 0 0 0 0 0 0 0 0\n",
            "  0 0 0 0 0 0 0 0 0 0 0 0 0 0]]\n"
          ]
        }
      ],
      "source": [
        "def iterate(Z):\n",
        "    N = (Z[0:-2,0:-2] + Z[0:-2,1:-1] + Z[0:-2,2:] +\n",
        "         Z[1:-1,0:-2]                + Z[1:-1,2:] +\n",
        "         Z[2:  ,0:-2] + Z[2:  ,1:-1] + Z[2:  ,2:])\n",
        "    birth = (N==3) & (Z[1:-1,1:-1]==0)\n",
        "    survive = ((N==2) | (N==3)) & (Z[1:-1,1:-1]==1)\n",
        "    Z[...] = 0\n",
        "    Z[1:-1,1:-1][birth | survive] = 1\n",
        "    return Z\n",
        "\n",
        "Z = np.random.randint(0,2,(50,50))\n",
        "for i in range(100): Z = iterate(Z)\n",
        "print(Z)"
      ]
    },
    {
      "cell_type": "markdown",
      "id": "69a892fa",
      "metadata": {
        "id": "69a892fa"
      },
      "source": [
        "#### 89. How to get the n largest values of an array (★★★)"
      ]
    },
    {
      "cell_type": "code",
      "execution_count": 96,
      "id": "21b2bd48",
      "metadata": {
        "id": "21b2bd48",
        "outputId": "37b2925d-7620-45fd-ca12-c1d3e1934bb9",
        "colab": {
          "base_uri": "https://localhost:8080/"
        }
      },
      "outputs": [
        {
          "output_type": "stream",
          "name": "stdout",
          "text": [
            "[9995 9996 9997 9998 9999]\n",
            "[9999 9998 9997 9995 9996]\n"
          ]
        }
      ],
      "source": [
        "Z = np.arange(10000)\n",
        "np.random.shuffle(Z)\n",
        "n = 5\n",
        "print (Z[np.argsort(Z)[-n:]])\n",
        "print (Z[np.argpartition(-Z,n)[:n]])"
      ]
    },
    {
      "cell_type": "markdown",
      "id": "b55ccacc",
      "metadata": {
        "id": "b55ccacc"
      },
      "source": [
        "#### 90. Given an arbitrary number of vectors, build the cartesian product (every combinations of every item) (★★★)"
      ]
    },
    {
      "cell_type": "code",
      "execution_count": 97,
      "id": "4b645da4",
      "metadata": {
        "id": "4b645da4",
        "outputId": "a3cfd6e4-cdaf-4b49-87fb-353f8b2d271c",
        "colab": {
          "base_uri": "https://localhost:8080/"
        }
      },
      "outputs": [
        {
          "output_type": "stream",
          "name": "stdout",
          "text": [
            "[[1 4 6]\n",
            " [1 4 7]\n",
            " [1 5 6]\n",
            " [1 5 7]\n",
            " [2 4 6]\n",
            " [2 4 7]\n",
            " [2 5 6]\n",
            " [2 5 7]\n",
            " [3 4 6]\n",
            " [3 4 7]\n",
            " [3 5 6]\n",
            " [3 5 7]]\n"
          ]
        }
      ],
      "source": [
        "def cartesian(arrays):\n",
        "    arrays = [np.asarray(a) for a in arrays]\n",
        "    shape = (len(x) for x in arrays)\n",
        "\n",
        "    ix = np.indices(shape, dtype=int)\n",
        "    ix = ix.reshape(len(arrays), -1).T\n",
        "\n",
        "    for n, arr in enumerate(arrays):\n",
        "        ix[:, n] = arrays[n][ix[:, n]]\n",
        "\n",
        "    return ix\n",
        "\n",
        "print (cartesian(([1, 2, 3], [4, 5], [6, 7])))"
      ]
    },
    {
      "cell_type": "markdown",
      "id": "89187a23",
      "metadata": {
        "id": "89187a23"
      },
      "source": [
        "#### 91. How to create a record array from a regular array? (★★★)"
      ]
    },
    {
      "cell_type": "code",
      "execution_count": 98,
      "id": "da94c71a",
      "metadata": {
        "id": "da94c71a",
        "outputId": "6028b0e8-2e6c-49e4-c35b-e0d2d61858f0",
        "colab": {
          "base_uri": "https://localhost:8080/"
        }
      },
      "outputs": [
        {
          "output_type": "stream",
          "name": "stdout",
          "text": [
            "[[1 4 6]\n",
            " [1 4 7]\n",
            " [1 5 6]\n",
            " [1 5 7]\n",
            " [2 4 6]\n",
            " [2 4 7]\n",
            " [2 5 6]\n",
            " [2 5 7]\n",
            " [3 4 6]\n",
            " [3 4 7]\n",
            " [3 5 6]\n",
            " [3 5 7]]\n"
          ]
        }
      ],
      "source": [
        "def cartesian(arrays):\n",
        "    arrays = [np.asarray(a) for a in arrays]\n",
        "    shape = (len(x) for x in arrays)\n",
        "\n",
        "    ix = np.indices(shape, dtype=int)\n",
        "    ix = ix.reshape(len(arrays), -1).T\n",
        "\n",
        "    for n, arr in enumerate(arrays):\n",
        "        ix[:, n] = arrays[n][ix[:, n]]\n",
        "\n",
        "    return ix\n",
        "\n",
        "print (cartesian(([1, 2, 3], [4, 5], [6, 7])))"
      ]
    },
    {
      "cell_type": "markdown",
      "id": "aa70d4ca",
      "metadata": {
        "id": "aa70d4ca"
      },
      "source": [
        "#### 92. Consider a large vector Z, compute Z to the power of 3 using 3 different methods (★★★)"
      ]
    },
    {
      "cell_type": "code",
      "source": [
        "import numpy as np  # Import numpy and assign it to the alias 'np'\n",
        "\n",
        "x = np.random.rand(int(5e7))  # Now you can use 'np' to call numpy functions\n",
        "Z = np.zeros(len(x), [('a', x.dtype)])\n",
        "np.power(x, 3, out=Z['a'])\n",
        "print(Z['a'])"
      ],
      "metadata": {
        "id": "hYQ_Vi0IRgJr",
        "outputId": "602c84c9-b500-4afc-c336-24171e723b1b",
        "colab": {
          "base_uri": "https://localhost:8080/"
        }
      },
      "id": "hYQ_Vi0IRgJr",
      "execution_count": 2,
      "outputs": [
        {
          "output_type": "stream",
          "name": "stdout",
          "text": [
            "[0.4746403  0.30826204 0.53293161 ... 0.02023463 0.17182997 0.20628446]\n"
          ]
        }
      ]
    },
    {
      "cell_type": "markdown",
      "id": "5f79dd00",
      "metadata": {
        "id": "5f79dd00"
      },
      "source": [
        "#### 93. Consider two arrays A and B of shape (8,3) and (2,2). How to find rows of A that contain elements of each row of B regardless of the order of the elements in B? (★★★)"
      ]
    },
    {
      "cell_type": "code",
      "execution_count": 3,
      "id": "20c105b2",
      "metadata": {
        "id": "20c105b2",
        "outputId": "5433fba5-37a2-41e8-dec5-a6f7b3f63924",
        "colab": {
          "base_uri": "https://localhost:8080/"
        }
      },
      "outputs": [
        {
          "output_type": "stream",
          "name": "stdout",
          "text": [
            "[1 3 5 7]\n"
          ]
        }
      ],
      "source": [
        "import numpy as np\n",
        "\n",
        "A=np.random.randint(0,5,(8,3))\n",
        "B=np.random.randint(0,5,(2,2))\n",
        "C=(A[...,np.newaxis,np.newaxis]==B)\n",
        "rows=np.where(C.any((3,1)).all(1))[0]\n",
        "print(rows)"
      ]
    },
    {
      "cell_type": "markdown",
      "id": "a80570cd",
      "metadata": {
        "id": "a80570cd"
      },
      "source": [
        "#### 94. Considering a 10x3 matrix, extract rows with unequal values (e.g. [2,2,3]) (★★★)"
      ]
    },
    {
      "cell_type": "code",
      "execution_count": 4,
      "id": "84db8de1",
      "metadata": {
        "id": "84db8de1",
        "outputId": "d72e52b0-54ac-40d9-d09e-bf6abc77b574",
        "colab": {
          "base_uri": "https://localhost:8080/"
        }
      },
      "outputs": [
        {
          "output_type": "stream",
          "name": "stdout",
          "text": [
            "[[3 0 1]\n",
            " [3 4 3]\n",
            " [0 1 1]\n",
            " [1 3 0]\n",
            " [1 4 4]\n",
            " [4 2 2]\n",
            " [4 2 1]\n",
            " [1 0 4]\n",
            " [2 3 3]\n",
            " [0 4 0]]\n",
            "[]\n",
            "[[3 0 1]\n",
            " [3 4 3]\n",
            " [0 1 1]\n",
            " [1 3 0]\n",
            " [1 4 4]\n",
            " [4 2 2]\n",
            " [4 2 1]\n",
            " [1 0 4]\n",
            " [2 3 3]\n",
            " [0 4 0]]\n"
          ]
        }
      ],
      "source": [
        "import numpy as np\n",
        "A = np.random.randint(0,5,(10,3))\n",
        "print(A)\n",
        "U=A[np.all(A[:,1:]==A[:,:-1],axis=1)]\n",
        "print(U)\n",
        "U=A[A.max(axis=1)!=A.min(axis=1),:]\n",
        "print(U)"
      ]
    },
    {
      "cell_type": "markdown",
      "id": "ba154f43",
      "metadata": {
        "id": "ba154f43"
      },
      "source": [
        "#### 95. Convert a vector of ints into a matrix binary representation (★★★)"
      ]
    },
    {
      "cell_type": "code",
      "execution_count": 5,
      "id": "cfa96e1b",
      "metadata": {
        "id": "cfa96e1b",
        "outputId": "344fe3c5-cf49-467a-a9d1-22e3874108eb",
        "colab": {
          "base_uri": "https://localhost:8080/"
        }
      },
      "outputs": [
        {
          "output_type": "stream",
          "name": "stdout",
          "text": [
            "[[0 0 0 0 0 0 0 0]\n",
            " [0 0 0 0 0 0 0 1]\n",
            " [0 0 0 0 0 0 1 0]\n",
            " [0 0 0 0 0 0 1 1]\n",
            " [0 0 0 0 1 1 1 1]\n",
            " [0 0 0 1 0 0 0 0]\n",
            " [0 0 1 0 0 0 0 0]\n",
            " [0 1 0 0 0 0 0 0]\n",
            " [1 0 0 0 0 0 0 0]]\n",
            "[[0 0 0 0 0 0 0 0]\n",
            " [0 0 0 0 0 0 0 1]\n",
            " [0 0 0 0 0 0 1 0]\n",
            " [0 0 0 0 0 0 1 1]\n",
            " [0 0 0 0 1 1 1 1]\n",
            " [0 0 0 1 0 0 0 0]\n",
            " [0 0 1 0 0 0 0 0]\n",
            " [0 1 0 0 0 0 0 0]\n",
            " [1 0 0 0 0 0 0 0]]\n"
          ]
        }
      ],
      "source": [
        "I=np.array([0,1,2,3,15,16,32,64,128],dtype=np.uint8)\n",
        "print(np.unpackbits(I[:,np.newaxis],axis=1))\n",
        "I=np.array([0, 1, 2, 3, 15, 16, 32, 64, 128],dtype=np.uint8)\n",
        "print(np.unpackbits(I[:,np.newaxis],axis=1))"
      ]
    },
    {
      "cell_type": "markdown",
      "id": "420e2343",
      "metadata": {
        "id": "420e2343"
      },
      "source": [
        "#### 96. Given a two dimensional array, how to extract unique rows? (★★★)"
      ]
    },
    {
      "cell_type": "code",
      "execution_count": 6,
      "id": "4680dfd0",
      "metadata": {
        "id": "4680dfd0",
        "outputId": "927af36f-9bb8-4df3-ac0e-fa5e0bca3fb9",
        "colab": {
          "base_uri": "https://localhost:8080/"
        }
      },
      "outputs": [
        {
          "output_type": "stream",
          "name": "stdout",
          "text": [
            "[[0 0 1 0 3 0]\n",
            " [0 0 3 1 1 0]\n",
            " [0 2 2 3 2 1]\n",
            " [1 0 3 3 0 1]\n",
            " [1 2 1 0 2 0]\n",
            " [1 2 3 3 1 0]\n",
            " [2 0 3 0 1 3]\n",
            " [2 0 3 2 0 1]\n",
            " [2 1 2 0 0 1]\n",
            " [2 3 0 0 3 2]\n",
            " [3 1 3 1 0 0]\n",
            " [3 1 3 1 2 1]]\n"
          ]
        }
      ],
      "source": [
        "A=np.random.randint(0,4,(12,6))\n",
        "T=np.ascontiguousarray(A).view(np.dtype((np.void,A.dtype.itemsize*A.shape[1])))\n",
        "_,idx=np.unique(T,return_index=True)\n",
        "uZ=A[idx]\n",
        "print(uZ)"
      ]
    },
    {
      "cell_type": "markdown",
      "id": "89fef2f3",
      "metadata": {
        "id": "89fef2f3"
      },
      "source": [
        "#### 97. Considering 2 vectors A & B, write the einsum equivalent of inner, outer, sum, and mul function (★★★)"
      ]
    },
    {
      "cell_type": "code",
      "execution_count": 7,
      "id": "bb9c14b2",
      "metadata": {
        "id": "bb9c14b2",
        "outputId": "a8889cf7-939d-4150-accb-82c901a8d29a",
        "colab": {
          "base_uri": "https://localhost:8080/"
        }
      },
      "outputs": [
        {
          "output_type": "execute_result",
          "data": {
            "text/plain": [
              "array([[5.55644284e-01, 7.27259973e-01, 2.09505142e-01, 2.31235169e-01,\n",
              "        2.13899711e-01, 8.67905266e-02, 2.47212524e-01, 3.35578558e-01,\n",
              "        4.84757366e-01, 5.77304329e-01, 5.37589141e-01, 7.02047188e-01,\n",
              "        7.19950377e-01, 4.54051704e-01, 3.99289242e-01, 4.69028778e-01,\n",
              "        6.70811083e-01, 4.77451154e-01, 6.66636631e-01, 7.21790967e-01],\n",
              "       [1.84343531e+00, 2.41279673e+00, 6.95065508e-01, 7.67158210e-01,\n",
              "        7.09645164e-01, 2.87940911e-01, 8.20165542e-01, 1.11333344e+00,\n",
              "        1.60825706e+00, 1.91529584e+00, 1.78353460e+00, 2.32914944e+00,\n",
              "        2.38854602e+00, 1.50638631e+00, 1.32470343e+00, 1.55607506e+00,\n",
              "        2.22551887e+00, 1.58401758e+00, 2.21166948e+00, 2.39465247e+00],\n",
              "       [1.67206363e-01, 2.18849539e-01, 6.30449982e-02, 6.95840715e-02,\n",
              "        6.43674267e-02, 2.61172997e-02, 7.43920314e-02, 1.00983438e-01,\n",
              "        1.45874831e-01, 1.73724377e-01, 1.61773148e-01, 2.11262422e-01,\n",
              "        2.16649910e-01, 1.36634779e-01, 1.20155473e-01, 1.41141731e-01,\n",
              "        2.01862747e-01, 1.43676221e-01, 2.00606557e-01, 2.17203787e-01],\n",
              "       [4.48506281e-01, 5.87031443e-01, 1.69108861e-01, 1.86648956e-01,\n",
              "        1.72656080e-01, 7.00557846e-02, 1.99545596e-01, 2.70873102e-01,\n",
              "        3.91287609e-01, 4.65989887e-01, 4.33932487e-01, 5.66680127e-01,\n",
              "        5.81131265e-01, 3.66502539e-01, 3.22299245e-01, 3.78591770e-01,\n",
              "        5.41466893e-01, 3.85390163e-01, 5.38097348e-01, 5.82616958e-01],\n",
              "       [2.09682266e+00, 2.74444503e+00, 7.90604965e-01, 8.72607090e-01,\n",
              "        8.07188652e-01, 3.27519509e-01, 9.32900486e-01, 1.26636545e+00,\n",
              "        1.82931825e+00, 2.17856070e+00, 2.02868836e+00, 2.64930009e+00,\n",
              "        2.71686096e+00, 1.71344497e+00, 1.50678907e+00, 1.76996362e+00,\n",
              "        2.53142509e+00, 1.80174696e+00, 2.51567205e+00, 2.72380676e+00],\n",
              "       [1.42009509e+00, 1.85870412e+00, 5.35445486e-01, 5.90982283e-01,\n",
              "        5.46676962e-01, 2.21816015e-01, 6.31816616e-01, 8.57659255e-01,\n",
              "        1.23892493e+00, 1.47545303e+00, 1.37395042e+00, 1.79426621e+00,\n",
              "        1.84002252e+00, 1.16044854e+00, 1.02048866e+00, 1.19872639e+00,\n",
              "        1.71443413e+00, 1.22025198e+00, 1.70376522e+00, 1.84472663e+00],\n",
              "       [2.61143921e-02, 3.41800548e-02, 9.84640638e-03, 1.08676828e-02,\n",
              "        1.00529441e-02, 4.07901585e-03, 1.16185930e-02, 1.57716552e-02,\n",
              "        2.27828204e-02, 2.71323795e-02, 2.52658292e-02, 3.29950943e-02,\n",
              "        3.38365154e-02, 2.13397034e-02, 1.87659553e-02, 2.20436019e-02,\n",
              "        3.15270473e-02, 2.24394401e-02, 3.13308547e-02, 3.39230203e-02],\n",
              "       [3.02465984e-03, 3.95885299e-03, 1.14044508e-03, 1.25873288e-03,\n",
              "        1.16436699e-03, 4.72445822e-04, 1.34570590e-03, 1.82672803e-03,\n",
              "        2.63878560e-03, 3.14256669e-03, 2.92637634e-03, 3.82160673e-03,\n",
              "        3.91906306e-03, 2.47163877e-03, 2.17353831e-03, 2.55316675e-03,\n",
              "        3.65157242e-03, 2.59901410e-03, 3.62884871e-03, 3.92908235e-03],\n",
              "       [2.21152836e+00, 2.89457860e+00, 8.33854638e-01, 9.20342651e-01,\n",
              "        8.51345528e-01, 3.45436310e-01, 9.83934368e-01, 1.33564138e+00,\n",
              "        1.92939025e+00, 2.29773784e+00, 2.13966681e+00, 2.79422881e+00,\n",
              "        2.86548557e+00, 1.80717817e+00, 1.58921725e+00, 1.86678865e+00,\n",
              "        2.66990551e+00, 1.90031068e+00, 2.65329071e+00, 2.87281133e+00],\n",
              "       [6.92329453e-01, 9.06161575e-01, 2.61042153e-01, 2.88117637e-01,\n",
              "        2.66517760e-01, 1.08140477e-01, 3.08025326e-01, 4.18128875e-01,\n",
              "        6.04004777e-01, 7.19317739e-01, 6.69832853e-01, 8.74746596e-01,\n",
              "        8.97053861e-01, 5.65745706e-01, 4.97512007e-01, 5.84407051e-01,\n",
              "        8.35826596e-01, 5.94901280e-01, 8.30625253e-01, 8.99347226e-01],\n",
              "       [3.18679443e-01, 4.17106429e-01, 1.20157777e-01, 1.32620629e-01,\n",
              "        1.22678200e-01, 4.97770920e-02, 1.41784144e-01, 1.92464840e-01,\n",
              "        2.78023569e-01, 3.31102158e-01, 3.08324251e-01, 4.02646105e-01,\n",
              "        4.12914146e-01, 2.60412908e-01, 2.29004917e-01, 2.69002731e-01,\n",
              "        3.84731218e-01, 2.73833227e-01, 3.82337039e-01, 4.13969782e-01],\n",
              "       [1.69835144e+00, 2.22290242e+00, 6.40361774e-01, 7.06780566e-01,\n",
              "        6.53793968e-01, 2.65279100e-01, 7.55616062e-01, 1.02571077e+00,\n",
              "        1.48168242e+00, 1.76455633e+00, 1.64316509e+00, 2.14583842e+00,\n",
              "        2.20056031e+00, 1.38782920e+00, 1.22044531e+00, 1.43360730e+00,\n",
              "        2.05036388e+00, 1.45935066e+00, 2.03760448e+00, 2.20618616e+00],\n",
              "       [2.52673345e+00, 3.30713759e+00, 9.52702412e-01, 1.05151740e+00,\n",
              "        9.72686247e-01, 3.94670714e-01, 1.12417273e+00, 1.52600790e+00,\n",
              "        2.20438270e+00, 2.62523020e+00, 2.44462960e+00, 3.19248513e+00,\n",
              "        3.27389797e+00, 2.06475196e+00, 1.81572548e+00, 2.13285862e+00,\n",
              "        3.05044225e+00, 2.17115848e+00, 3.03145937e+00, 3.28226787e+00],\n",
              "       [1.38753533e+00, 1.81608798e+00, 5.23168858e-01, 5.77432315e-01,\n",
              "        5.34142820e-01, 2.16730245e-01, 6.17330403e-01, 8.37994950e-01,\n",
              "        1.21051901e+00, 1.44162403e+00, 1.34244866e+00, 1.75312750e+00,\n",
              "        1.79783471e+00, 1.13384192e+00, 9.97091025e-01, 1.17124214e+00,\n",
              "        1.67512580e+00, 1.19227420e+00, 1.66470150e+00, 1.80243097e+00],\n",
              "       [1.70252152e+00, 2.22836047e+00, 6.41934100e-01, 7.08515975e-01,\n",
              "        6.55399276e-01, 2.65930459e-01, 7.57471380e-01, 1.02822927e+00,\n",
              "        1.48532050e+00, 1.76888897e+00, 1.64719967e+00, 2.15110725e+00,\n",
              "        2.20596350e+00, 1.39123684e+00, 1.22344195e+00, 1.43712734e+00,\n",
              "        2.05539828e+00, 1.46293391e+00, 2.04260755e+00, 2.21160316e+00],\n",
              "       [2.17731573e-01, 2.84979910e-01, 8.20954799e-02, 9.06104831e-02,\n",
              "        8.38175103e-02, 3.40092365e-02, 9.68712776e-02, 1.31497884e-01,\n",
              "        1.89954233e-01, 2.26219153e-01, 2.10656588e-01, 2.75100173e-01,\n",
              "        2.82115613e-01, 1.77922089e-01, 1.56463186e-01, 1.83790919e-01,\n",
              "        2.62860173e-01, 1.87091263e-01, 2.61224396e-01, 2.82836857e-01],\n",
              "       [3.22661341e-01, 4.22318171e-01, 1.21659148e-01, 1.34277723e-01,\n",
              "        1.24211063e-01, 5.03990565e-02, 1.43555736e-01, 1.94869687e-01,\n",
              "        2.81497472e-01, 3.35239278e-01, 3.12176761e-01, 4.07677166e-01,\n",
              "        4.18073506e-01, 2.63666766e-01, 2.31866332e-01, 2.72363918e-01,\n",
              "        3.89538433e-01, 2.77254772e-01, 3.87114338e-01, 4.19142332e-01],\n",
              "       [4.39341668e-01, 5.75036258e-01, 1.65653353e-01, 1.82835040e-01,\n",
              "        1.69128089e-01, 6.86242905e-02, 1.95468154e-01, 2.65338181e-01,\n",
              "        3.83292182e-01, 4.56468021e-01, 4.25065670e-01, 5.55100794e-01,\n",
              "        5.69256643e-01, 3.59013561e-01, 3.15713500e-01, 3.70855765e-01,\n",
              "        5.30402758e-01, 3.77515242e-01, 5.27102065e-01, 5.70711977e-01],\n",
              "       [2.72699381e-01, 3.56925015e-01, 1.02821039e-01, 1.13485712e-01,\n",
              "        1.04977807e-01, 4.25950982e-02, 1.21327087e-01, 1.64695413e-01,\n",
              "        2.37909463e-01, 2.83329708e-01, 2.63838268e-01, 3.44551071e-01,\n",
              "        3.53337607e-01, 2.22839723e-01, 1.95963375e-01, 2.30190179e-01,\n",
              "        3.29221000e-01, 2.34323717e-01, 3.27172260e-01, 3.54240933e-01],\n",
              "       [4.84013656e-01, 6.33505587e-01, 1.82496883e-01, 2.01425593e-01,\n",
              "        1.86324927e-01, 7.56019656e-02, 2.15343235e-01, 2.92317602e-01,\n",
              "        4.22265092e-01, 5.02881405e-01, 4.68286083e-01, 6.11543096e-01,\n",
              "        6.27138303e-01, 3.95517836e-01, 3.47815052e-01, 4.08564148e-01,\n",
              "        5.84333780e-01, 4.15900757e-01, 5.80697475e-01, 6.28741615e-01]])"
            ]
          },
          "metadata": {},
          "execution_count": 7
        }
      ],
      "source": [
        "X=np.random.uniform(0,2,20)\n",
        "Y=np.random.uniform(0,2,20)\n",
        "np.einsum('i->',X)\n",
        "np.einsum('i,i->i',X,Y)\n",
        "np.einsum('i,i',X,Y)\n",
        "np.einsum('i,j->ij',X,Y)"
      ]
    },
    {
      "cell_type": "markdown",
      "id": "7ad5cc5f",
      "metadata": {
        "id": "7ad5cc5f"
      },
      "source": [
        "#### 98. Considering a path described by two vectors (X,Y), how to sample it using equidistant samples (★★★)?"
      ]
    },
    {
      "cell_type": "code",
      "execution_count": 8,
      "id": "0899d1d5",
      "metadata": {
        "id": "0899d1d5"
      },
      "outputs": [],
      "source": [
        "phi=np.arange(0,10*np.pi,0.1)\n",
        "a=1\n",
        "x=a*phi*np.cos(phi)\n",
        "y=a*phi*np.sin(phi)\n",
        "dr=(np.diff(x)**2+np.diff(y)**2)**.5\n",
        "r=np.zeros_like(x)\n",
        "r[1:]=np.cumsum(dr)\n",
        "r_int=np.linspace(0,r.max(),200)\n",
        "x_int=np.interp(r_int,r,x)\n",
        "y_int=np.interp(r_int,r,y)"
      ]
    },
    {
      "cell_type": "markdown",
      "id": "2b69272e",
      "metadata": {
        "id": "2b69272e"
      },
      "source": [
        "#### 99. Given an integer n and a 2D array X, select from X the rows which can be interpreted as draws from a multinomial distribution with n degrees, i.e., the rows which only contain integers and which sum to n. (★★★)"
      ]
    },
    {
      "cell_type": "code",
      "execution_count": 10,
      "id": "55c8b034",
      "metadata": {
        "id": "55c8b034",
        "outputId": "bc397f53-97e0-4164-f7da-fac30348aa05",
        "colab": {
          "base_uri": "https://localhost:8080/"
        }
      },
      "outputs": [
        {
          "output_type": "stream",
          "name": "stdout",
          "text": [
            "[[2. 0. 1. 1.]]\n"
          ]
        }
      ],
      "source": [
        "X=np.asarray([[1.0, 0.0, 3.0, 8.0],\n",
        "[2.0, 0.0, 1.0, 1.0],\n",
        "[1.5,2.5,1.0,0.0]])\n",
        "n=4\n",
        "M=np.logical_and.reduce(np.mod(X,1)==0,axis=-1)\n",
        "M&=(X.sum(axis=-1)==n)\n",
        "print(X[M])"
      ]
    },
    {
      "cell_type": "markdown",
      "id": "59ab5516",
      "metadata": {
        "id": "59ab5516"
      },
      "source": [
        "#### 100. Compute bootstrapped 95% confidence intervals for the mean of a 1D array X (i.e., resample the elements of an array with replacement N times, compute the mean of each sample, and then compute percentiles over the means). (★★★)"
      ]
    },
    {
      "cell_type": "code",
      "execution_count": 11,
      "id": "450877d8",
      "metadata": {
        "id": "450877d8",
        "outputId": "61d0e260-413f-4402-9cc4-151ad717a4a7",
        "colab": {
          "base_uri": "https://localhost:8080/"
        }
      },
      "outputs": [
        {
          "output_type": "stream",
          "name": "stdout",
          "text": [
            "[-0.11779332  0.25754188]\n"
          ]
        }
      ],
      "source": [
        "import numpy as np\n",
        "import scipy.stats as st\n",
        "np.random.seed(10)\n",
        "X=np.random.randn(100)\n",
        "N=1000\n",
        "idx=np.random.randint(0,X.size,(N,X.size))\n",
        "means=X[idx].mean(axis=1)\n",
        "confint=np.percentile(means,[2.5,97.5])\n",
        "print(confint)"
      ]
    }
  ],
  "metadata": {
    "colab": {
      "provenance": [],
      "include_colab_link": true
    },
    "language_info": {
      "name": "python"
    },
    "kernelspec": {
      "name": "python3",
      "display_name": "Python 3"
    }
  },
  "nbformat": 4,
  "nbformat_minor": 5
}